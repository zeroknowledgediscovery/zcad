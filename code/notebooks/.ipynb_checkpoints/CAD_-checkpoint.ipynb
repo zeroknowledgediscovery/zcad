{
 "cells": [
  {
   "cell_type": "markdown",
   "metadata": {},
   "source": [
    "\n",
    "# PTSD Model Inference with IRT Features\n",
    "\n",
    "## [Center for Health Statistics](http://www.healthstats.org)\n",
    "\n",
    "## [The Zero Knowledge Discovery Lab](http://zed.uchicago.edu)\n",
    "---\n",
    "\n"
   ]
  },
  {
   "cell_type": "code",
   "execution_count": 1,
   "metadata": {},
   "outputs": [],
   "source": [
    "import ccx as cx\n",
    "import pylab as plt\n",
    "plt.style.use('ggplot')\n",
    "import pickle\n",
    "import pandas as pd\n",
    "import numpy as np\n",
    "%matplotlib inline"
   ]
  },
  {
   "cell_type": "code",
   "execution_count": 32,
   "metadata": {},
   "outputs": [],
   "source": [
    "nfeatures=211\n",
    "\n",
    "def ask(item,B=0,E=5):\n",
    "    if item < 0:\n",
    "        return {item:0}\n",
    "    response=input(' Response to item '+str(item)+': ')\n",
    "    return {item:int(response)}"
   ]
  },
  {
   "cell_type": "code",
   "execution_count": 36,
   "metadata": {},
   "outputs": [],
   "source": [
    "modelset=cx.load('../model/model_2_3.pkl')\n",
    "model=cx.chooseForm(modelset)"
   ]
  },
  {
   "cell_type": "code",
   "execution_count": 38,
   "metadata": {},
   "outputs": [
    {
     "name": "stdout",
     "output_type": "stream",
     "text": [
      " Response to item 100: 2\n",
      " Response to item 147: 2\n",
      " Response to item 95: 1\n",
      " Response to item 173: 4\n",
      " Response to item 149: 5\n",
      " Response to item 94: 1\n",
      "[[0.57653327 0.42346673]]\n"
     ]
    }
   ],
   "source": [
    "[r,p]=cx.runCAD(model,nfeatures,ask=ask)\n",
    "print(p)"
   ]
  },
  {
   "cell_type": "code",
   "execution_count": 22,
   "metadata": {},
   "outputs": [],
   "source": [
    "cx.drawTrees(model,PREF='../model/this')"
   ]
  },
  {
   "cell_type": "code",
   "execution_count": null,
   "metadata": {},
   "outputs": [],
   "source": []
  }
 ],
 "metadata": {
  "kernelspec": {
   "display_name": "Python 3",
   "language": "python",
   "name": "python3"
  },
  "language_info": {
   "codemirror_mode": {
    "name": "ipython",
    "version": 3
   },
   "file_extension": ".py",
   "mimetype": "text/x-python",
   "name": "python",
   "nbconvert_exporter": "python",
   "pygments_lexer": "ipython3",
   "version": "3.9.2"
  }
 },
 "nbformat": 4,
 "nbformat_minor": 1
}
