{
 "cells": [
  {
   "cell_type": "code",
   "execution_count": 1,
   "metadata": {},
   "outputs": [],
   "source": [
    "import numpy as np\n",
    "import matplotlib.pyplot as plt\n",
    "from sklearn import svm\n",
    "import pandas as pd\n",
    "import seaborn as sns\n",
    "from sklearn import svm\n",
    "from sklearn.model_selection import train_test_split\n",
    "from sklearn import metrics\n",
    "from sklearn import neighbors, datasets\n",
    "from sklearn.model_selection import cross_val_score\n",
    "from sklearn.datasets import make_blobs\n",
    "from sklearn.ensemble import RandomForestClassifier\n",
    "from sklearn.ensemble import ExtraTreesClassifier\n",
    "from sklearn.tree import DecisionTreeClassifier\n",
    "from sklearn.ensemble import AdaBoostClassifier\n",
    "from sklearn.ensemble import GradientBoostingClassifier\n",
    "from scipy.spatial import ConvexHull\n",
    "from tqdm import tqdm\n",
    "import random\n",
    "plt.style.use('ggplot')\n",
    "import pickle\n",
    "from sklearn import tree\n",
    "from sklearn.tree import export_graphviz\n",
    "from joblib import dump, load\n",
    "from sklearn.metrics import confusion_matrix\n",
    "from sklearn.metrics import accuracy_score\n",
    "from sklearn.metrics import classification_report\n",
    "%matplotlib inline\n",
    "from sklearn.impute import SimpleImputer\n",
    "from scipy import interpolate\n",
    "from scipy.interpolate import interp1d\n"
   ]
  },
  {
   "cell_type": "code",
   "execution_count": 2,
   "metadata": {},
   "outputs": [],
   "source": [
    "MAX_DEPTH=6\n",
    "NUMESTIMATORS=2"
   ]
  },
  {
   "cell_type": "code",
   "execution_count": 3,
   "metadata": {},
   "outputs": [],
   "source": [
    "def getAuc(X,y,test_size=0.25,max_depth=None,n_estimators=100,\n",
    "           minsplit=4,FPR=[],TPR=[],VERBOSE=False, USE_ONLY=None):\n",
    "    '''\n",
    "        get AUC given training data X, with target labels y\n",
    "    '''\n",
    "    X_train, X_test, y_train, y_test = train_test_split(X, y, test_size=test_size)\n",
    "    CLASSIFIERS=[DecisionTreeClassifier(max_depth=max_depth, min_samples_split=minsplit,class_weight='balanced'),\n",
    "                RandomForestClassifier(n_estimators=n_estimators,\n",
    "                                       max_depth=max_depth,min_samples_split=minsplit,class_weight='balanced'),\n",
    "                ExtraTreesClassifier(n_estimators=n_estimators,\n",
    "                                     max_depth=max_depth,min_samples_split=minsplit,class_weight='balanced'),\n",
    "                AdaBoostClassifier(n_estimators=n_estimators),\n",
    "                GradientBoostingClassifier(n_estimators=n_estimators,max_depth=max_depth),\n",
    "                svm.SVC(kernel='rbf',gamma='scale',class_weight='balanced',probability=True)]\n",
    "\n",
    "    if USE_ONLY is not None:\n",
    "        if isinstance(USE_ONLY, (list,)):\n",
    "            CLASSIFIERS=[CLASSIFIERS[i] for i in USE_ONLY]\n",
    "        if isinstance(USE_ONLY, (int,)):\n",
    "            CLASSIFIERS=CLASSIFIERS[USE_ONLY]\n",
    "\n",
    "    for clf in CLASSIFIERS:\n",
    "        clf.fit(X_train,y_train)\n",
    "        y_pred=clf.predict_proba(X_test)\n",
    "        #print(X_test,y_pred)\n",
    "        fpr, tpr, thresholds = metrics.roc_curve(y_test,y_pred[:,1], pos_label=1)\n",
    "        auc=metrics.auc(fpr, tpr)\n",
    "        if VERBOSE:\n",
    "            print(auc)\n",
    "\n",
    "        FPR=np.append(FPR,fpr)\n",
    "        TPR=np.append(TPR,tpr)\n",
    "    points=np.array([[a[0],a[1]] for a in zip(FPR,TPR)])\n",
    "    hull = ConvexHull(points)\n",
    "    x=np.argsort(points[hull.vertices,:][:,0])\n",
    "    auc=metrics.auc(points[hull.vertices,:][x,0],points[hull.vertices,:][x,1])\n",
    "    return auc,CLASSIFIERS\n",
    "\n",
    "\n",
    "def saveFIG(filename='tmp.pdf',AXIS=False):\n",
    "    '''\n",
    "        save fig for publication\n",
    "    '''\n",
    "    import pylab as plt\n",
    "    plt.subplots_adjust(top = 1, bottom = 0, right = 1, left = 0, \n",
    "            hspace = 0, wspace = 0)\n",
    "    plt.margins(0,0)\n",
    "    if not AXIS:\n",
    "        plt.gca().xaxis.set_major_locator(plt.NullLocator())\n",
    "        plt.gca().yaxis.set_major_locator(plt.NullLocator())\n",
    "    plt.savefig(filename,dpi=300, bbox_inches = 'tight',\n",
    "                pad_inches = 0,transparent=False) \n",
    "    return"
   ]
  },
  {
   "cell_type": "code",
   "execution_count": 4,
   "metadata": {},
   "outputs": [],
   "source": [
    "def getacc(c1,c2,p1,p2,p3,f1,f2):\n",
    "    s1=f1(1-c1)\n",
    "    s2=f2(1-c2)\n",
    "    A=(c1*c2*(1-p1)*(1-p2))/((c1*(1-p1)+(1-s1)*p1)*(c2*(1-p2)+(1-s2)*p2))\n",
    "    B=(1-s1)*p1 - (1-c1)*(1-p1) + (1-s2)*p2 - (1-c2)*(1-p2) + p3\n",
    "    return s1*p1+s2*p2+ A*B"
   ]
  },
  {
   "cell_type": "code",
   "execution_count": 5,
   "metadata": {},
   "outputs": [],
   "source": [
    "def getCoverage(model,verbose=True):\n",
    "    '''\n",
    "        return how many distinct items (questions)\n",
    "        are used in the model set.\n",
    "        This includes the set of questions being\n",
    "        covered by all forms that may be \n",
    "        generated by the model set\n",
    "    '''\n",
    "    FS=[]\n",
    "    for m in model:\n",
    "        for count in range(len(m.estimators_)):\n",
    "            clf=m.estimators_[count]\n",
    "            fs=clf.tree_.feature[clf.tree_.feature>0]\n",
    "            FS=np.array(list(set(np.append(FS,fs))))\n",
    "    if verbose:\n",
    "        print(\"Number of items used: \", FS.size)\n",
    "    return FS\n",
    "\n",
    "def getConfusion(X,y,test_size=0.25,max_depth=None,n_estimators=100,\n",
    "           minsplit=4,CONFUSION={},VERBOSE=False, USE_ONLY=None,target_names = None):\n",
    "    '''\n",
    "        get AUC given training data X, with target labels y\n",
    "    '''\n",
    "    X_train, X_test, y_train, y_test = train_test_split(X, y, test_size=test_size)\n",
    "    CLASSIFIERS=[DecisionTreeClassifier(max_depth=max_depth, min_samples_split=minsplit),\n",
    "                RandomForestClassifier(n_estimators=n_estimators,class_weight='balanced',\n",
    "                                       max_depth=max_depth,min_samples_split=minsplit),\n",
    "                ExtraTreesClassifier(n_estimators=n_estimators,class_weight='balanced',\n",
    "                                     max_depth=max_depth,min_samples_split=minsplit),\n",
    "                AdaBoostClassifier(n_estimators=n_estimators),\n",
    "                GradientBoostingClassifier(n_estimators=n_estimators,max_depth=max_depth),\n",
    "                svm.SVC(kernel='rbf',gamma='scale',class_weight='balanced',probability=True)]\n",
    "\n",
    "    if USE_ONLY is not None:\n",
    "        if isinstance(USE_ONLY, (list,)):\n",
    "            CLASSIFIERS=[CLASSIFIERS[i] for i in USE_ONLY]\n",
    "        if isinstance(USE_ONLY, (int,)):\n",
    "            CLASSIFIERS=CLASSIFIERS[USE_ONLY]\n",
    "\n",
    "    for clf in CLASSIFIERS:\n",
    "        clf.fit(X_train,y_train)\n",
    "        y_pred=clf.predict(X_test)\n",
    "        print(y_test,y_pred)\n",
    "        cmat=confusion_matrix(y_test, y_pred)\n",
    "        acc=accuracy_score(y_test, y_pred)\n",
    "        \n",
    "        CONFUSION[clf]=cmat\n",
    "        \n",
    "        if VERBOSE:\n",
    "            print(classification_report(y_test, y_pred, target_names=target_names))\n",
    "            print('Confusion MAtrix:\\n', cmat)\n",
    "            print(' ')\n",
    "            print('Accuracy:', acc)\n",
    "\n",
    "        \n",
    "    return CONFUSION,acc,y_test,y_pred"
   ]
  },
  {
   "cell_type": "code",
   "execution_count": 6,
   "metadata": {},
   "outputs": [],
   "source": [
    "def getFmap(CLFstar,X,y):\n",
    "    auc_=[]\n",
    "    ROC={}\n",
    "    fpr_ = np.linspace(0, 1, num=20, endpoint=True)\n",
    "    for run in np.arange(1000):\n",
    "        clf=CLFstar\n",
    "        X_train, X_test, y_train, y_test = train_test_split(X, y, test_size=0.5)\n",
    "        y_pred=clf.predict_proba(X_test)\n",
    "        fpr, tpr, thresholds = metrics.roc_curve(y_test,y_pred[:,1], pos_label=1)\n",
    "        f = interp1d(fpr, tpr)\n",
    "        auc_=np.append(auc_,metrics.auc(fpr_, f(fpr_)))\n",
    "        ROC[metrics.auc(fpr, tpr)]={'fpr':fpr_,'tpr':f(fpr_)}\n",
    "\n",
    "    TPR=[]\n",
    "    for a in ROC.keys():\n",
    "        TPR=np.append(TPR,ROC[a]['tpr'])\n",
    "    TPR=TPR.reshape(int(len(TPR)/len(fpr_)),len(fpr_))\n",
    "    medTPR=np.median(TPR,axis=0)\n",
    "    return interpolate.interp1d(fpr_,np.median(TPR,axis=0) )"
   ]
  },
  {
   "cell_type": "code",
   "execution_count": 7,
   "metadata": {},
   "outputs": [
    {
     "data": {
      "text/plain": [
       "Index(['Subid', 'Biotype Cluster Membership',\n",
       "       'Biotype Cluster Membership String', 'DSM', 'DSM String', 'Age', 'Sex',\n",
       "       'EEG1', 'EEG2', 'EEG3', 'EEG4', 'EEG5', 'EEG6', 'LATENCY',\n",
       "       'ANTISACCADE', 'BACS', 'SST', 'IEA'],\n",
       "      dtype='object')"
      ]
     },
     "execution_count": 7,
     "metadata": {},
     "output_type": "execute_result"
    }
   ],
   "source": [
    "Ef=pd.read_excel('./2022summer/adeptphase3/BIOTYPES_HC_withBiofactors_21_1008.xlsx')\n",
    "Ef.columns"
   ]
  },
  {
   "cell_type": "code",
   "execution_count": 20,
   "metadata": {},
   "outputs": [],
   "source": [
    "Ef_=Ef[['Subid',#'Age', 'Sex',\n",
    "       'EEG1', 'EEG2', 'EEG3', 'EEG4', 'EEG5', 'EEG6', 'LATENCY',\n",
    "       'ANTISACCADE', 'BACS', 'SST', 'IEA']]"
   ]
  },
  {
   "cell_type": "code",
   "execution_count": 21,
   "metadata": {},
   "outputs": [
    {
     "data": {
      "text/html": [
       "<div>\n",
       "<style scoped>\n",
       "    .dataframe tbody tr th:only-of-type {\n",
       "        vertical-align: middle;\n",
       "    }\n",
       "\n",
       "    .dataframe tbody tr th {\n",
       "        vertical-align: top;\n",
       "    }\n",
       "\n",
       "    .dataframe thead th {\n",
       "        text-align: right;\n",
       "    }\n",
       "</style>\n",
       "<table border=\"1\" class=\"dataframe\">\n",
       "  <thead>\n",
       "    <tr style=\"text-align: right;\">\n",
       "      <th></th>\n",
       "      <th>Subid</th>\n",
       "      <th>Biotype Cluster Membership</th>\n",
       "      <th>Biotype Cluster Membership String</th>\n",
       "      <th>DSM</th>\n",
       "      <th>DSM String</th>\n",
       "      <th>Age</th>\n",
       "      <th>Sex</th>\n",
       "      <th>EEG1</th>\n",
       "      <th>EEG2</th>\n",
       "      <th>EEG3</th>\n",
       "      <th>EEG4</th>\n",
       "      <th>EEG5</th>\n",
       "      <th>EEG6</th>\n",
       "      <th>LATENCY</th>\n",
       "      <th>ANTISACCADE</th>\n",
       "      <th>BACS</th>\n",
       "      <th>SST</th>\n",
       "      <th>IEA</th>\n",
       "    </tr>\n",
       "  </thead>\n",
       "  <tbody>\n",
       "    <tr>\n",
       "      <th>0</th>\n",
       "      <td>1</td>\n",
       "      <td>2</td>\n",
       "      <td>BT2</td>\n",
       "      <td>1.0</td>\n",
       "      <td>SZP</td>\n",
       "      <td>21.0</td>\n",
       "      <td>1.0</td>\n",
       "      <td>1.12820</td>\n",
       "      <td>1.87300</td>\n",
       "      <td>2.33730</td>\n",
       "      <td>-0.21366</td>\n",
       "      <td>-1.71850</td>\n",
       "      <td>0.82298</td>\n",
       "      <td>1.97720</td>\n",
       "      <td>0.81046</td>\n",
       "      <td>-2.50360</td>\n",
       "      <td>0.46935</td>\n",
       "      <td>1.25487</td>\n",
       "    </tr>\n",
       "    <tr>\n",
       "      <th>1</th>\n",
       "      <td>4</td>\n",
       "      <td>5</td>\n",
       "      <td>BT3</td>\n",
       "      <td>5.0</td>\n",
       "      <td>SADP</td>\n",
       "      <td>19.0</td>\n",
       "      <td>1.0</td>\n",
       "      <td>0.21344</td>\n",
       "      <td>0.98380</td>\n",
       "      <td>-0.01598</td>\n",
       "      <td>0.29054</td>\n",
       "      <td>0.40746</td>\n",
       "      <td>0.16553</td>\n",
       "      <td>-0.56255</td>\n",
       "      <td>0.57429</td>\n",
       "      <td>0.28269</td>\n",
       "      <td>0.26599</td>\n",
       "      <td>0.60817</td>\n",
       "    </tr>\n",
       "    <tr>\n",
       "      <th>2</th>\n",
       "      <td>17</td>\n",
       "      <td>2</td>\n",
       "      <td>BT2</td>\n",
       "      <td>2.0</td>\n",
       "      <td>BPP</td>\n",
       "      <td>27.0</td>\n",
       "      <td>2.0</td>\n",
       "      <td>0.46442</td>\n",
       "      <td>-0.77002</td>\n",
       "      <td>0.70273</td>\n",
       "      <td>-0.11653</td>\n",
       "      <td>0.62982</td>\n",
       "      <td>0.28553</td>\n",
       "      <td>-1.30490</td>\n",
       "      <td>1.15190</td>\n",
       "      <td>-1.17130</td>\n",
       "      <td>-1.36430</td>\n",
       "      <td>0.53097</td>\n",
       "    </tr>\n",
       "    <tr>\n",
       "      <th>3</th>\n",
       "      <td>40</td>\n",
       "      <td>3</td>\n",
       "      <td>HC</td>\n",
       "      <td>3.0</td>\n",
       "      <td>HC</td>\n",
       "      <td>60.0</td>\n",
       "      <td>1.0</td>\n",
       "      <td>-0.49419</td>\n",
       "      <td>-1.60390</td>\n",
       "      <td>0.69619</td>\n",
       "      <td>0.34431</td>\n",
       "      <td>-0.37430</td>\n",
       "      <td>0.04882</td>\n",
       "      <td>-0.17613</td>\n",
       "      <td>-1.15000</td>\n",
       "      <td>1.44260</td>\n",
       "      <td>NaN</td>\n",
       "      <td>-1.11014</td>\n",
       "    </tr>\n",
       "    <tr>\n",
       "      <th>4</th>\n",
       "      <td>50</td>\n",
       "      <td>3</td>\n",
       "      <td>HC</td>\n",
       "      <td>3.0</td>\n",
       "      <td>HC</td>\n",
       "      <td>48.0</td>\n",
       "      <td>1.0</td>\n",
       "      <td>0.33141</td>\n",
       "      <td>-0.67916</td>\n",
       "      <td>1.07570</td>\n",
       "      <td>-0.35825</td>\n",
       "      <td>0.19952</td>\n",
       "      <td>0.62360</td>\n",
       "      <td>NaN</td>\n",
       "      <td>NaN</td>\n",
       "      <td>-0.28807</td>\n",
       "      <td>-0.14360</td>\n",
       "      <td>-0.33049</td>\n",
       "    </tr>\n",
       "  </tbody>\n",
       "</table>\n",
       "</div>"
      ],
      "text/plain": [
       "   Subid  Biotype Cluster Membership Biotype Cluster Membership String  DSM  \\\n",
       "0      1                           2                               BT2  1.0   \n",
       "1      4                           5                               BT3  5.0   \n",
       "2     17                           2                               BT2  2.0   \n",
       "3     40                           3                                HC  3.0   \n",
       "4     50                           3                                HC  3.0   \n",
       "\n",
       "  DSM String   Age  Sex     EEG1     EEG2     EEG3     EEG4     EEG5     EEG6  \\\n",
       "0        SZP  21.0  1.0  1.12820  1.87300  2.33730 -0.21366 -1.71850  0.82298   \n",
       "1       SADP  19.0  1.0  0.21344  0.98380 -0.01598  0.29054  0.40746  0.16553   \n",
       "2        BPP  27.0  2.0  0.46442 -0.77002  0.70273 -0.11653  0.62982  0.28553   \n",
       "3         HC  60.0  1.0 -0.49419 -1.60390  0.69619  0.34431 -0.37430  0.04882   \n",
       "4         HC  48.0  1.0  0.33141 -0.67916  1.07570 -0.35825  0.19952  0.62360   \n",
       "\n",
       "   LATENCY  ANTISACCADE     BACS      SST      IEA  \n",
       "0  1.97720      0.81046 -2.50360  0.46935  1.25487  \n",
       "1 -0.56255      0.57429  0.28269  0.26599  0.60817  \n",
       "2 -1.30490      1.15190 -1.17130 -1.36430  0.53097  \n",
       "3 -0.17613     -1.15000  1.44260      NaN -1.11014  \n",
       "4      NaN          NaN -0.28807 -0.14360 -0.33049  "
      ]
     },
     "execution_count": 21,
     "metadata": {},
     "output_type": "execute_result"
    }
   ],
   "source": [
    "Ef.head()"
   ]
  },
  {
   "cell_type": "code",
   "execution_count": 22,
   "metadata": {},
   "outputs": [
    {
     "data": {
      "text/plain": [
       "HC     895\n",
       "BT3    646\n",
       "BT2    631\n",
       "BT1    630\n",
       "Name: Biotype Cluster Membership String, dtype: int64"
      ]
     },
     "execution_count": 22,
     "metadata": {},
     "output_type": "execute_result"
    }
   ],
   "source": [
    "Ef['Biotype Cluster Membership String'].value_counts()"
   ]
  },
  {
   "cell_type": "code",
   "execution_count": 23,
   "metadata": {},
   "outputs": [
    {
     "data": {
      "text/plain": [
       "3    895\n",
       "5    646\n",
       "2    631\n",
       "1    630\n",
       "Name: Biotype Cluster Membership, dtype: int64"
      ]
     },
     "execution_count": 23,
     "metadata": {},
     "output_type": "execute_result"
    }
   ],
   "source": [
    "Ef['Biotype Cluster Membership'].value_counts()"
   ]
  },
  {
   "cell_type": "code",
   "execution_count": 25,
   "metadata": {},
   "outputs": [],
   "source": [
    "xf=pd.read_csv('./2022summer/adeptphase2/Cognition.csv',index_col=0)\n",
    "xf.index.name='subject_id'\n",
    "df=pd.read_csv('combined_bsnip.csv',index_col=0).drop('DSM',axis=1)\n",
    "df=df.join(xf)#.head()\n",
    "df=df.join(Ef_.set_index('Subid'))"
   ]
  },
  {
   "cell_type": "code",
   "execution_count": 26,
   "metadata": {},
   "outputs": [
    {
     "data": {
      "text/html": [
       "<div>\n",
       "<style scoped>\n",
       "    .dataframe tbody tr th:only-of-type {\n",
       "        vertical-align: middle;\n",
       "    }\n",
       "\n",
       "    .dataframe tbody tr th {\n",
       "        vertical-align: top;\n",
       "    }\n",
       "\n",
       "    .dataframe thead th {\n",
       "        text-align: right;\n",
       "    }\n",
       "</style>\n",
       "<table border=\"1\" class=\"dataframe\">\n",
       "  <thead>\n",
       "    <tr style=\"text-align: right;\">\n",
       "      <th></th>\n",
       "      <th>Biotype</th>\n",
       "      <th>project</th>\n",
       "      <th>panss_p1</th>\n",
       "      <th>panss_p2</th>\n",
       "      <th>panss_p3</th>\n",
       "      <th>panss_p4</th>\n",
       "      <th>panss_p5</th>\n",
       "      <th>panss_p6</th>\n",
       "      <th>panss_p7</th>\n",
       "      <th>panss_n1</th>\n",
       "      <th>...</th>\n",
       "      <th>EEG2</th>\n",
       "      <th>EEG3</th>\n",
       "      <th>EEG4</th>\n",
       "      <th>EEG5</th>\n",
       "      <th>EEG6</th>\n",
       "      <th>LATENCY</th>\n",
       "      <th>ANTISACCADE</th>\n",
       "      <th>BACS</th>\n",
       "      <th>SST</th>\n",
       "      <th>IEA</th>\n",
       "    </tr>\n",
       "    <tr>\n",
       "      <th>subject_id</th>\n",
       "      <th></th>\n",
       "      <th></th>\n",
       "      <th></th>\n",
       "      <th></th>\n",
       "      <th></th>\n",
       "      <th></th>\n",
       "      <th></th>\n",
       "      <th></th>\n",
       "      <th></th>\n",
       "      <th></th>\n",
       "      <th></th>\n",
       "      <th></th>\n",
       "      <th></th>\n",
       "      <th></th>\n",
       "      <th></th>\n",
       "      <th></th>\n",
       "      <th></th>\n",
       "      <th></th>\n",
       "      <th></th>\n",
       "      <th></th>\n",
       "      <th></th>\n",
       "    </tr>\n",
       "  </thead>\n",
       "  <tbody>\n",
       "    <tr>\n",
       "      <th>1</th>\n",
       "      <td>2</td>\n",
       "      <td>1</td>\n",
       "      <td>4.0</td>\n",
       "      <td>3.0</td>\n",
       "      <td>4.0</td>\n",
       "      <td>1.0</td>\n",
       "      <td>3.0</td>\n",
       "      <td>2.0</td>\n",
       "      <td>1.0</td>\n",
       "      <td>4.0</td>\n",
       "      <td>...</td>\n",
       "      <td>1.87300</td>\n",
       "      <td>2.33730</td>\n",
       "      <td>-0.21366</td>\n",
       "      <td>-1.71850</td>\n",
       "      <td>0.82298</td>\n",
       "      <td>1.97720</td>\n",
       "      <td>0.81046</td>\n",
       "      <td>-2.50360</td>\n",
       "      <td>0.46935</td>\n",
       "      <td>1.25487</td>\n",
       "    </tr>\n",
       "    <tr>\n",
       "      <th>4</th>\n",
       "      <td>3</td>\n",
       "      <td>1</td>\n",
       "      <td>3.0</td>\n",
       "      <td>1.0</td>\n",
       "      <td>3.0</td>\n",
       "      <td>1.0</td>\n",
       "      <td>2.0</td>\n",
       "      <td>2.0</td>\n",
       "      <td>1.0</td>\n",
       "      <td>3.0</td>\n",
       "      <td>...</td>\n",
       "      <td>0.98380</td>\n",
       "      <td>-0.01598</td>\n",
       "      <td>0.29054</td>\n",
       "      <td>0.40746</td>\n",
       "      <td>0.16553</td>\n",
       "      <td>-0.56255</td>\n",
       "      <td>0.57429</td>\n",
       "      <td>0.28269</td>\n",
       "      <td>0.26599</td>\n",
       "      <td>0.60817</td>\n",
       "    </tr>\n",
       "    <tr>\n",
       "      <th>17</th>\n",
       "      <td>2</td>\n",
       "      <td>1</td>\n",
       "      <td>2.0</td>\n",
       "      <td>2.0</td>\n",
       "      <td>2.0</td>\n",
       "      <td>1.0</td>\n",
       "      <td>1.0</td>\n",
       "      <td>2.0</td>\n",
       "      <td>1.0</td>\n",
       "      <td>3.0</td>\n",
       "      <td>...</td>\n",
       "      <td>-0.77002</td>\n",
       "      <td>0.70273</td>\n",
       "      <td>-0.11653</td>\n",
       "      <td>0.62982</td>\n",
       "      <td>0.28553</td>\n",
       "      <td>-1.30490</td>\n",
       "      <td>1.15190</td>\n",
       "      <td>-1.17130</td>\n",
       "      <td>-1.36430</td>\n",
       "      <td>0.53097</td>\n",
       "    </tr>\n",
       "    <tr>\n",
       "      <th>53</th>\n",
       "      <td>2</td>\n",
       "      <td>1</td>\n",
       "      <td>4.0</td>\n",
       "      <td>3.0</td>\n",
       "      <td>5.0</td>\n",
       "      <td>2.0</td>\n",
       "      <td>1.0</td>\n",
       "      <td>3.0</td>\n",
       "      <td>1.0</td>\n",
       "      <td>5.0</td>\n",
       "      <td>...</td>\n",
       "      <td>-0.49290</td>\n",
       "      <td>0.83015</td>\n",
       "      <td>0.29458</td>\n",
       "      <td>0.95910</td>\n",
       "      <td>0.07574</td>\n",
       "      <td>1.70840</td>\n",
       "      <td>1.67910</td>\n",
       "      <td>-1.80260</td>\n",
       "      <td>-1.32620</td>\n",
       "      <td>2.11076</td>\n",
       "    </tr>\n",
       "    <tr>\n",
       "      <th>73</th>\n",
       "      <td>2</td>\n",
       "      <td>1</td>\n",
       "      <td>6.0</td>\n",
       "      <td>5.0</td>\n",
       "      <td>6.0</td>\n",
       "      <td>4.0</td>\n",
       "      <td>5.0</td>\n",
       "      <td>6.0</td>\n",
       "      <td>6.0</td>\n",
       "      <td>1.0</td>\n",
       "      <td>...</td>\n",
       "      <td>0.96811</td>\n",
       "      <td>0.18825</td>\n",
       "      <td>1.58710</td>\n",
       "      <td>0.06071</td>\n",
       "      <td>-0.57604</td>\n",
       "      <td>-1.22850</td>\n",
       "      <td>0.83388</td>\n",
       "      <td>0.07678</td>\n",
       "      <td>-2.81020</td>\n",
       "      <td>0.99180</td>\n",
       "    </tr>\n",
       "  </tbody>\n",
       "</table>\n",
       "<p>5 rows × 92 columns</p>\n",
       "</div>"
      ],
      "text/plain": [
       "            Biotype  project  panss_p1  panss_p2  panss_p3  panss_p4  \\\n",
       "subject_id                                                             \n",
       "1                 2        1       4.0       3.0       4.0       1.0   \n",
       "4                 3        1       3.0       1.0       3.0       1.0   \n",
       "17                2        1       2.0       2.0       2.0       1.0   \n",
       "53                2        1       4.0       3.0       5.0       2.0   \n",
       "73                2        1       6.0       5.0       6.0       4.0   \n",
       "\n",
       "            panss_p5  panss_p6  panss_p7  panss_n1  ...     EEG2     EEG3  \\\n",
       "subject_id                                          ...                     \n",
       "1                3.0       2.0       1.0       4.0  ...  1.87300  2.33730   \n",
       "4                2.0       2.0       1.0       3.0  ...  0.98380 -0.01598   \n",
       "17               1.0       2.0       1.0       3.0  ... -0.77002  0.70273   \n",
       "53               1.0       3.0       1.0       5.0  ... -0.49290  0.83015   \n",
       "73               5.0       6.0       6.0       1.0  ...  0.96811  0.18825   \n",
       "\n",
       "               EEG4     EEG5     EEG6  LATENCY  ANTISACCADE     BACS      SST  \\\n",
       "subject_id                                                                      \n",
       "1          -0.21366 -1.71850  0.82298  1.97720      0.81046 -2.50360  0.46935   \n",
       "4           0.29054  0.40746  0.16553 -0.56255      0.57429  0.28269  0.26599   \n",
       "17         -0.11653  0.62982  0.28553 -1.30490      1.15190 -1.17130 -1.36430   \n",
       "53          0.29458  0.95910  0.07574  1.70840      1.67910 -1.80260 -1.32620   \n",
       "73          1.58710  0.06071 -0.57604 -1.22850      0.83388  0.07678 -2.81020   \n",
       "\n",
       "                IEA  \n",
       "subject_id           \n",
       "1           1.25487  \n",
       "4           0.60817  \n",
       "17          0.53097  \n",
       "53          2.11076  \n",
       "73          0.99180  \n",
       "\n",
       "[5 rows x 92 columns]"
      ]
     },
     "execution_count": 26,
     "metadata": {},
     "output_type": "execute_result"
    }
   ],
   "source": [
    "df.head()"
   ]
  },
  {
   "cell_type": "code",
   "execution_count": 27,
   "metadata": {},
   "outputs": [
    {
     "data": {
      "text/plain": [
       "3    646\n",
       "2    631\n",
       "1    630\n",
       "Name: Biotype, dtype: int64"
      ]
     },
     "execution_count": 27,
     "metadata": {},
     "output_type": "execute_result"
    }
   ],
   "source": [
    "df.Biotype.value_counts()"
   ]
  },
  {
   "cell_type": "code",
   "execution_count": 28,
   "metadata": {},
   "outputs": [
    {
     "data": {
      "text/plain": [
       "Index(['Biotype', 'project', 'panss_p1', 'panss_p2', 'panss_p3', 'panss_p4',\n",
       "       'panss_p5', 'panss_p6', 'panss_p7', 'panss_n1', 'panss_n2', 'panss_n3',\n",
       "       'panss_n4', 'panss_n5', 'panss_n6', 'panss_n7', 'panss_g1', 'panss_g2',\n",
       "       'panss_g3', 'panss_g4', 'panss_g5', 'panss_g6', 'panss_g7', 'panss_g8',\n",
       "       'panss_g9', 'panss_g10', 'panss_g11', 'panss_g12', 'panss_g13',\n",
       "       'panss_g14', 'panss_g15', 'panss_g16', 'madrs_1', 'madrs_2', 'madrs_3',\n",
       "       'madrs_4', 'madrs_5', 'madrs_6', 'madrs_7', 'madrs_8', 'madrs_9',\n",
       "       'madrs_10', 'young_1', 'young_2', 'young_3', 'young_4', 'young_5',\n",
       "       'young_6', 'young_7', 'young_8', 'young_9', 'young_10', 'young_11',\n",
       "       'sfs_setotal', 'sfs_ictotal', 'sfs_ipcptotal', 'sfs_ipcctotal',\n",
       "       'sfs_retotal', 'sfs_prototal', 'sfs_oetotal', 'DX', 'Age', 'Sex',\n",
       "       'BSNIP1vs2', 'Psychosis', 'BACS_COMP_Z_within',\n",
       "       'BACS_Verb_Mem_within_imputed', 'BACS_Dig_Seq_z_within_imputed',\n",
       "       'BACS_Tok_Mot_z_within_imputed', 'BACS_Verb_Flu_z_within_imputed',\n",
       "       'BACS_Sym_Cod_z_within_imputed', 'BACS_Tower_z_within_imputed',\n",
       "       'ConsensusWRAT', 'Pro_NoGap_within_Impute_Age_Sex_adjusted',\n",
       "       'Pro_Gap_within_Impute_Age_Sex_adjusted',\n",
       "       'Pro_Overlap_within_Impute_Age_Sex_adjusted',\n",
       "       'Anti_Corr_Lat_within_Impute_Age_Sex_adjusted',\n",
       "       'Anti_Error_Lat_within_Impute_Age_Sex_adjusted',\n",
       "       'Anti_prop_error_within_Impute_Age_Sex_adjusted',\n",
       "       'SSGoDiff_standwithin', 'SSTProportionError_standwithin', 'EEG1',\n",
       "       'EEG2', 'EEG3', 'EEG4', 'EEG5', 'EEG6', 'LATENCY', 'ANTISACCADE',\n",
       "       'BACS', 'SST', 'IEA'],\n",
       "      dtype='object')"
      ]
     },
     "execution_count": 28,
     "metadata": {},
     "output_type": "execute_result"
    }
   ],
   "source": [
    "#df=pd.read_csv('combined_bsnip.csv',index_col=0).drop('DSM',axis=1)\n",
    "df.columns"
   ]
  },
  {
   "cell_type": "code",
   "execution_count": 29,
   "metadata": {},
   "outputs": [
    {
     "data": {
      "text/plain": [
       "Index(['DSM', 'Biotype', 'project', 'panss_p1', 'panss_p2', 'panss_p3',\n",
       "       'panss_p4', 'panss_p5', 'panss_p6', 'panss_p7', 'panss_n1', 'panss_n2',\n",
       "       'panss_n3', 'panss_n4', 'panss_n5', 'panss_n6', 'panss_n7', 'panss_g1',\n",
       "       'panss_g2', 'panss_g3', 'panss_g4', 'panss_g5', 'panss_g6', 'panss_g7',\n",
       "       'panss_g8', 'panss_g9', 'panss_g10', 'panss_g11', 'panss_g12',\n",
       "       'panss_g13', 'panss_g14', 'panss_g15', 'panss_g16', 'madrs_1',\n",
       "       'madrs_2', 'madrs_3', 'madrs_4', 'madrs_5', 'madrs_6', 'madrs_7',\n",
       "       'madrs_8', 'madrs_9', 'madrs_10', 'young_1', 'young_2', 'young_3',\n",
       "       'young_4', 'young_5', 'young_6', 'young_7', 'young_8', 'young_9',\n",
       "       'young_10', 'young_11', 'sfs_setotal', 'sfs_ictotal', 'sfs_ipcptotal',\n",
       "       'sfs_ipcctotal', 'sfs_retotal', 'sfs_prototal', 'sfs_oetotal'],\n",
       "      dtype='object')"
      ]
     },
     "execution_count": 29,
     "metadata": {},
     "output_type": "execute_result"
    }
   ],
   "source": [
    "pd.read_csv('combined_bsnip.csv',index_col=0).columns"
   ]
  },
  {
   "cell_type": "code",
   "execution_count": 30,
   "metadata": {},
   "outputs": [],
   "source": [
    "#df=df[df['Biotype']==3]\n",
    "df=df.dropna()\n",
    "df0=df\n",
    "[p1,p2,p3]=(df0.Biotype.value_counts()/df0.Biotype.value_counts().sum()).values"
   ]
  },
  {
   "cell_type": "code",
   "execution_count": 31,
   "metadata": {
    "scrolled": true
   },
   "outputs": [
    {
     "data": {
      "text/plain": [
       "3    334\n",
       "1    293\n",
       "2    254\n",
       "Name: Biotype, dtype: int64"
      ]
     },
     "execution_count": 31,
     "metadata": {},
     "output_type": "execute_result"
    }
   ],
   "source": [
    "df.Biotype.value_counts()\n",
    "# 3 is HC"
   ]
  },
  {
   "cell_type": "code",
   "execution_count": 32,
   "metadata": {},
   "outputs": [],
   "source": [
    "def getRES(df0,MAX_DEPTH=6,NUMESTIMATORS=2):\n",
    "    df=df0\n",
    "    X=df.iloc[:,2:].values\n",
    "    y=df.Biotype.values#.astype(str)\n",
    "    y=[(int(x)==2)+0 for x in y ]\n",
    "\n",
    "    ACC=[]\n",
    "    CLFh={}\n",
    "    for run in np.arange(500):\n",
    "        auc,CLFS=getAuc(X,y,test_size=0.2,max_depth=MAX_DEPTH,n_estimators=NUMESTIMATORS,\n",
    "                   minsplit=2,VERBOSE=False, USE_ONLY=[2])\n",
    "        ACC=np.append(ACC,auc)\n",
    "        if auc > 0.5:\n",
    "            CLFh[auc]=CLFS\n",
    "    CLFstarA=CLFh[np.array([k for k in CLFh.keys()]).max()][0]\n",
    "    f1=getFmap(CLFstarA,X,y)\n",
    "\n",
    "\n",
    "    #df=df0[df0.Biotype.isin([1,5])]\n",
    "    df=df0\n",
    "    X=df.iloc[:,2:].values\n",
    "    y=df.Biotype.values#.astype(str)\n",
    "    y=[(int(x)==3)+0 for x in y ]\n",
    "\n",
    "    ACC=[]\n",
    "    CLFh={}\n",
    "    for run in np.arange(500):\n",
    "        auc,CLFS=getAuc(X,y,test_size=0.2,max_depth=MAX_DEPTH,n_estimators=NUMESTIMATORS,\n",
    "                   minsplit=2,VERBOSE=False, USE_ONLY=[2])\n",
    "        ACC=np.append(ACC,auc)\n",
    "        if auc > 0.5:\n",
    "            CLFh[auc]=CLFS\n",
    "    CLFstarB=CLFh[np.array([k for k in CLFh.keys()]).max()][0]\n",
    "    f2=getFmap(CLFstarB,X,y)\n",
    "\n",
    "    R=[]\n",
    "    for i in np.arange(.7,.99,.01):\n",
    "        for j in np.arange(.7,.99,.01):\n",
    "            R=np.append(R,[i,j,getacc(i,j,p1,p2,p3,f1,f2)])\n",
    "    R=pd.DataFrame(R.reshape(len(R)//3,3))\n",
    "    R.columns=['c1','c2','acc']\n",
    "    R['s1']=f1(1-R.c1)\n",
    "    R['s2']=f2(1-R.c2)\n",
    "\n",
    "\n",
    "    X_test=df.values.astype(np.float32)\n",
    "    L=[]\n",
    "\n",
    "    for sample_id in np.arange(len(X_test)):\n",
    "        Node_index=[]\n",
    "        for i in CLFstarA.estimators_:\n",
    "            threshold= i.tree_.threshold\n",
    "            feature= i.tree_.feature\n",
    "            node_indicator = i.tree_.decision_path(X_test)\n",
    "            leaf_id = i.tree_.apply(X_test)\n",
    "\n",
    "            node_index = node_indicator.indices[\n",
    "            node_indicator.indptr[sample_id] : node_indicator.indptr[sample_id + 1]]\n",
    "            Node_index=np.append(Node_index,node_index)\n",
    "\n",
    "        for i in CLFstarB.estimators_:\n",
    "            threshold= i.tree_.threshold\n",
    "            feature= i.tree_.feature\n",
    "            node_indicator = i.tree_.decision_path(X_test)\n",
    "            leaf_id = i.tree_.apply(X_test)\n",
    "\n",
    "            node_index = node_indicator.indices[\n",
    "            node_indicator.indptr[sample_id] : node_indicator.indptr[sample_id + 1]]\n",
    "            Node_index=np.append(Node_index,node_index)\n",
    "        L=np.append(L,len(set(Node_index))-2)\n",
    "    L=np.array(L)\n",
    "    #print(np.mean(L),np.median(L))\n",
    "    #sns.displot(L);\n",
    "\n",
    "\n",
    "    RES=R.sort_values('acc',ascending=False).head(1)\n",
    "    RES['nq_mean']=np.mean(L)\n",
    "    RES['nq_median']=np.median(L)\n",
    "    return RES"
   ]
  },
  {
   "cell_type": "code",
   "execution_count": 33,
   "metadata": {
    "scrolled": false
   },
   "outputs": [
    {
     "data": {
      "text/html": [
       "<div>\n",
       "<style scoped>\n",
       "    .dataframe tbody tr th:only-of-type {\n",
       "        vertical-align: middle;\n",
       "    }\n",
       "\n",
       "    .dataframe tbody tr th {\n",
       "        vertical-align: top;\n",
       "    }\n",
       "\n",
       "    .dataframe thead th {\n",
       "        text-align: right;\n",
       "    }\n",
       "</style>\n",
       "<table border=\"1\" class=\"dataframe\">\n",
       "  <thead>\n",
       "    <tr style=\"text-align: right;\">\n",
       "      <th></th>\n",
       "      <th>c1</th>\n",
       "      <th>c2</th>\n",
       "      <th>acc</th>\n",
       "      <th>s1</th>\n",
       "      <th>s2</th>\n",
       "      <th>nq_mean</th>\n",
       "      <th>nq_median</th>\n",
       "    </tr>\n",
       "  </thead>\n",
       "  <tbody>\n",
       "    <tr>\n",
       "      <th>744</th>\n",
       "      <td>0.94</td>\n",
       "      <td>0.94</td>\n",
       "      <td>0.898121</td>\n",
       "      <td>0.954814</td>\n",
       "      <td>0.871015</td>\n",
       "      <td>25.371169</td>\n",
       "      <td>25.0</td>\n",
       "    </tr>\n",
       "  </tbody>\n",
       "</table>\n",
       "</div>"
      ],
      "text/plain": [
       "       c1    c2       acc        s1        s2    nq_mean  nq_median\n",
       "744  0.94  0.94  0.898121  0.954814  0.871015  25.371169       25.0"
      ]
     },
     "execution_count": 33,
     "metadata": {},
     "output_type": "execute_result"
    }
   ],
   "source": [
    "Rs=getRES(df0,MAX_DEPTH=10)\n",
    "Rs"
   ]
  },
  {
   "cell_type": "code",
   "execution_count": 34,
   "metadata": {},
   "outputs": [
    {
     "data": {
      "text/html": [
       "<div>\n",
       "<style scoped>\n",
       "    .dataframe tbody tr th:only-of-type {\n",
       "        vertical-align: middle;\n",
       "    }\n",
       "\n",
       "    .dataframe tbody tr th {\n",
       "        vertical-align: top;\n",
       "    }\n",
       "\n",
       "    .dataframe thead th {\n",
       "        text-align: right;\n",
       "    }\n",
       "</style>\n",
       "<table border=\"1\" class=\"dataframe\">\n",
       "  <thead>\n",
       "    <tr style=\"text-align: right;\">\n",
       "      <th></th>\n",
       "      <th>B1</th>\n",
       "      <th>B2</th>\n",
       "      <th>B3</th>\n",
       "    </tr>\n",
       "  </thead>\n",
       "  <tbody>\n",
       "    <tr>\n",
       "      <th>B1</th>\n",
       "      <td>0.883600</td>\n",
       "      <td>0.060000</td>\n",
       "      <td>0.056400</td>\n",
       "    </tr>\n",
       "    <tr>\n",
       "      <th>B2</th>\n",
       "      <td>0.005828</td>\n",
       "      <td>0.954814</td>\n",
       "      <td>0.039357</td>\n",
       "    </tr>\n",
       "    <tr>\n",
       "      <th>B3</th>\n",
       "      <td>0.121246</td>\n",
       "      <td>0.060000</td>\n",
       "      <td>0.818754</td>\n",
       "    </tr>\n",
       "  </tbody>\n",
       "</table>\n",
       "</div>"
      ],
      "text/plain": [
       "          B1        B2        B3\n",
       "B1  0.883600  0.060000  0.056400\n",
       "B2  0.005828  0.954814  0.039357\n",
       "B3  0.121246  0.060000  0.818754"
      ]
     },
     "execution_count": 34,
     "metadata": {},
     "output_type": "execute_result"
    }
   ],
   "source": [
    "CF=np.zeros([3,3])\n",
    "s2=Rs.s1.values[0]\n",
    "s3=Rs.s2.values[0]\n",
    "c2=Rs.c1.values[0]\n",
    "c3=Rs.c2.values[0]\n",
    "CF=[[c2*c3,1-c2,c2*(1-c3)],[(1-s2)*(1-s3),s2,(1-s2)*s3],[c2*(1-s3),1-c2,c2*s3]]\n",
    "\n",
    "CF=pd.DataFrame(CF,columns=['B1','B2','B3'])\n",
    "CF.index=CF.columns\n",
    "CF"
   ]
  },
  {
   "cell_type": "code",
   "execution_count": null,
   "metadata": {},
   "outputs": [],
   "source": []
  },
  {
   "cell_type": "code",
   "execution_count": null,
   "metadata": {},
   "outputs": [],
   "source": []
  },
  {
   "cell_type": "code",
   "execution_count": null,
   "metadata": {},
   "outputs": [],
   "source": []
  },
  {
   "cell_type": "code",
   "execution_count": null,
   "metadata": {},
   "outputs": [],
   "source": []
  },
  {
   "cell_type": "code",
   "execution_count": null,
   "metadata": {},
   "outputs": [],
   "source": []
  },
  {
   "cell_type": "code",
   "execution_count": null,
   "metadata": {},
   "outputs": [],
   "source": []
  },
  {
   "cell_type": "code",
   "execution_count": 35,
   "metadata": {
    "scrolled": false
   },
   "outputs": [
    {
     "name": "stderr",
     "output_type": "stream",
     "text": [
      "  0%|                                                                                | 0/20 [00:00<?, ?it/s]\n",
      "  0%|                                                                                 | 0/6 [00:00<?, ?it/s]\u001b[A\n",
      " 17%|████████████▏                                                            | 1/6 [00:12<01:01, 12.39s/it]\u001b[A\n",
      " 33%|████████████████████████▎                                                | 2/6 [00:25<00:49, 12.48s/it]\u001b[A\n",
      " 50%|████████████████████████████████████▌                                    | 3/6 [00:37<00:37, 12.54s/it]\u001b[A\n",
      " 67%|████████████████████████████████████████████████▋                        | 4/6 [00:50<00:25, 12.66s/it]\u001b[A\n",
      " 83%|████████████████████████████████████████████████████████████▊            | 5/6 [01:03<00:12, 12.83s/it]\u001b[A\n",
      "100%|█████████████████████████████████████████████████████████████████████████| 6/6 [01:16<00:00, 12.83s/it]\u001b[A\n",
      "  5%|███▌                                                                    | 1/20 [01:16<24:22, 76.97s/it]\n",
      "  0%|                                                                                 | 0/6 [00:00<?, ?it/s]\u001b[A\n",
      " 17%|████████████▏                                                            | 1/6 [00:12<01:02, 12.51s/it]\u001b[A\n",
      " 33%|████████████████████████▎                                                | 2/6 [00:25<00:51, 12.78s/it]\u001b[A\n",
      " 50%|████████████████████████████████████▌                                    | 3/6 [00:38<00:38, 12.86s/it]\u001b[A\n",
      " 67%|████████████████████████████████████████████████▋                        | 4/6 [00:52<00:25, 12.98s/it]\u001b[A\n",
      " 83%|████████████████████████████████████████████████████████████▊            | 5/6 [01:05<00:13, 13.07s/it]\u001b[A\n",
      "100%|█████████████████████████████████████████████████████████████████████████| 6/6 [01:19<00:00, 13.20s/it]\u001b[A\n",
      " 10%|███████▏                                                                | 2/20 [02:36<23:17, 77.64s/it]\n",
      "  0%|                                                                                 | 0/6 [00:00<?, ?it/s]\u001b[A\n",
      " 17%|████████████▏                                                            | 1/6 [00:12<01:03, 12.61s/it]\u001b[A\n",
      " 33%|████████████████████████▎                                                | 2/6 [00:25<00:50, 12.58s/it]\u001b[A\n",
      " 50%|████████████████████████████████████▌                                    | 3/6 [00:37<00:37, 12.62s/it]\u001b[A\n",
      " 67%|████████████████████████████████████████████████▋                        | 4/6 [00:50<00:25, 12.71s/it]\u001b[A\n",
      " 83%|████████████████████████████████████████████████████████████▊            | 5/6 [01:04<00:12, 12.96s/it]\u001b[A\n",
      "100%|█████████████████████████████████████████████████████████████████████████| 6/6 [01:17<00:00, 12.93s/it]\u001b[A\n",
      " 15%|██████████▊                                                             | 3/20 [03:53<21:59, 77.62s/it]\n",
      "  0%|                                                                                 | 0/6 [00:00<?, ?it/s]\u001b[A\n",
      " 17%|████████████▏                                                            | 1/6 [00:12<01:03, 12.65s/it]\u001b[A\n",
      " 33%|████████████████████████▎                                                | 2/6 [00:25<00:51, 12.76s/it]\u001b[A\n",
      " 50%|████████████████████████████████████▌                                    | 3/6 [00:38<00:38, 12.90s/it]\u001b[A\n",
      " 67%|████████████████████████████████████████████████▋                        | 4/6 [00:51<00:25, 12.83s/it]\u001b[A\n",
      " 83%|████████████████████████████████████████████████████████████▊            | 5/6 [01:04<00:12, 12.98s/it]\u001b[A\n",
      "100%|█████████████████████████████████████████████████████████████████████████| 6/6 [01:18<00:00, 13.05s/it]\u001b[A\n",
      " 20%|██████████████▍                                                         | 4/20 [05:12<20:45, 77.83s/it]\n",
      "  0%|                                                                                 | 0/6 [00:00<?, ?it/s]\u001b[A\n",
      " 17%|████████████▏                                                            | 1/6 [00:12<01:03, 12.78s/it]\u001b[A\n",
      " 33%|████████████████████████▎                                                | 2/6 [00:26<00:51, 12.97s/it]\u001b[A\n",
      " 50%|████████████████████████████████████▌                                    | 3/6 [00:38<00:38, 12.91s/it]\u001b[A\n",
      " 67%|████████████████████████████████████████████████▋                        | 4/6 [00:51<00:25, 12.88s/it]\u001b[A\n",
      " 83%|████████████████████████████████████████████████████████████▊            | 5/6 [01:05<00:13, 13.01s/it]\u001b[A\n",
      "100%|█████████████████████████████████████████████████████████████████████████| 6/6 [01:18<00:00, 13.03s/it]\u001b[A\n",
      " 25%|██████████████████                                                      | 5/20 [06:30<19:29, 77.94s/it]\n",
      "  0%|                                                                                 | 0/6 [00:00<?, ?it/s]\u001b[A\n",
      " 17%|████████████▏                                                            | 1/6 [00:12<01:01, 12.37s/it]\u001b[A\n",
      " 33%|████████████████████████▎                                                | 2/6 [00:24<00:49, 12.41s/it]\u001b[A\n",
      " 50%|████████████████████████████████████▌                                    | 3/6 [00:37<00:37, 12.44s/it]\u001b[A\n",
      " 67%|████████████████████████████████████████████████▋                        | 4/6 [00:50<00:25, 12.56s/it]\u001b[A\n",
      " 83%|████████████████████████████████████████████████████████████▊            | 5/6 [01:03<00:12, 12.68s/it]\u001b[A\n",
      "100%|█████████████████████████████████████████████████████████████████████████| 6/6 [01:16<00:00, 12.70s/it]\u001b[A\n",
      " 30%|█████████████████████▌                                                  | 6/20 [07:46<18:03, 77.43s/it]\n",
      "  0%|                                                                                 | 0/6 [00:00<?, ?it/s]\u001b[A\n",
      " 17%|████████████▏                                                            | 1/6 [00:12<01:01, 12.34s/it]\u001b[A\n",
      " 33%|████████████████████████▎                                                | 2/6 [00:24<00:49, 12.39s/it]\u001b[A\n",
      " 50%|████████████████████████████████████▌                                    | 3/6 [00:37<00:37, 12.54s/it]\u001b[A\n",
      " 67%|████████████████████████████████████████████████▋                        | 4/6 [00:50<00:25, 12.62s/it]\u001b[A\n",
      " 83%|████████████████████████████████████████████████████████████▊            | 5/6 [01:03<00:12, 12.73s/it]\u001b[A\n",
      "100%|█████████████████████████████████████████████████████████████████████████| 6/6 [01:16<00:00, 12.74s/it]\u001b[A\n",
      " 35%|█████████████████████████▏                                              | 7/20 [09:02<16:42, 77.14s/it]\n",
      "  0%|                                                                                 | 0/6 [00:00<?, ?it/s]\u001b[A\n",
      " 17%|████████████▏                                                            | 1/6 [00:12<01:01, 12.22s/it]\u001b[A\n",
      " 33%|████████████████████████▎                                                | 2/6 [00:24<00:49, 12.25s/it]\u001b[A\n",
      " 50%|████████████████████████████████████▌                                    | 3/6 [00:37<00:37, 12.38s/it]\u001b[A\n",
      " 67%|████████████████████████████████████████████████▋                        | 4/6 [00:49<00:24, 12.45s/it]\u001b[A\n",
      " 83%|████████████████████████████████████████████████████████████▊            | 5/6 [01:02<00:12, 12.53s/it]\u001b[A\n",
      "100%|█████████████████████████████████████████████████████████████████████████| 6/6 [01:15<00:00, 12.58s/it]\u001b[A\n",
      " 40%|████████████████████████████▊                                           | 8/20 [10:18<15:19, 76.64s/it]\n",
      "  0%|                                                                                 | 0/6 [00:00<?, ?it/s]\u001b[A\n",
      " 17%|████████████▏                                                            | 1/6 [00:12<01:01, 12.39s/it]\u001b[A\n",
      " 33%|████████████████████████▎                                                | 2/6 [00:24<00:49, 12.44s/it]\u001b[A\n",
      " 50%|████████████████████████████████████▌                                    | 3/6 [00:37<00:37, 12.46s/it]\u001b[A\n",
      " 67%|████████████████████████████████████████████████▋                        | 4/6 [00:49<00:24, 12.42s/it]\u001b[A\n",
      " 83%|████████████████████████████████████████████████████████████▊            | 5/6 [01:02<00:12, 12.43s/it]\u001b[A\n",
      "100%|█████████████████████████████████████████████████████████████████████████| 6/6 [01:14<00:00, 12.48s/it]\u001b[A\n",
      " 45%|████████████████████████████████▍                                       | 9/20 [11:33<13:57, 76.11s/it]\n",
      "  0%|                                                                                 | 0/6 [00:00<?, ?it/s]\u001b[A\n",
      " 17%|████████████▏                                                            | 1/6 [00:11<00:59, 11.91s/it]\u001b[A\n",
      " 33%|████████████████████████▎                                                | 2/6 [00:24<00:47, 11.97s/it]\u001b[A\n",
      " 50%|████████████████████████████████████▌                                    | 3/6 [00:36<00:36, 12.04s/it]\u001b[A\n",
      " 67%|████████████████████████████████████████████████▋                        | 4/6 [00:48<00:24, 12.11s/it]\u001b[A\n",
      " 83%|████████████████████████████████████████████████████████████▊            | 5/6 [01:01<00:12, 12.27s/it]\u001b[A\n",
      "100%|█████████████████████████████████████████████████████████████████████████| 6/6 [01:13<00:00, 12.30s/it]\u001b[A\n",
      " 50%|███████████████████████████████████▌                                   | 10/20 [12:47<12:34, 75.42s/it]\n",
      "  0%|                                                                                 | 0/6 [00:00<?, ?it/s]\u001b[A\n",
      " 17%|████████████▏                                                            | 1/6 [00:11<00:59, 11.86s/it]\u001b[A\n",
      " 33%|████████████████████████▎                                                | 2/6 [00:23<00:47, 11.92s/it]\u001b[A\n",
      " 50%|████████████████████████████████████▌                                    | 3/6 [00:36<00:36, 12.01s/it]\u001b[A\n",
      " 67%|████████████████████████████████████████████████▋                        | 4/6 [00:48<00:24, 12.12s/it]\u001b[A\n",
      " 83%|████████████████████████████████████████████████████████████▊            | 5/6 [01:01<00:12, 12.25s/it]\u001b[A\n",
      "100%|█████████████████████████████████████████████████████████████████████████| 6/6 [01:13<00:00, 12.28s/it]\u001b[A\n",
      " 55%|███████████████████████████████████████                                | 11/20 [14:00<11:14, 74.89s/it]\n",
      "  0%|                                                                                 | 0/6 [00:00<?, ?it/s]\u001b[A\n",
      " 17%|████████████▏                                                            | 1/6 [00:11<00:59, 11.91s/it]\u001b[A\n",
      " 33%|████████████████████████▎                                                | 2/6 [00:24<00:48, 12.09s/it]\u001b[A\n",
      " 50%|████████████████████████████████████▌                                    | 3/6 [00:37<00:37, 12.35s/it]\u001b[A\n",
      " 67%|████████████████████████████████████████████████▋                        | 4/6 [00:50<00:25, 12.70s/it]\u001b[A\n",
      " 83%|████████████████████████████████████████████████████████████▊            | 5/6 [01:04<00:12, 12.88s/it]\u001b[A\n",
      "100%|█████████████████████████████████████████████████████████████████████████| 6/6 [01:17<00:00, 12.89s/it]\u001b[A\n",
      " 60%|██████████████████████████████████████████▌                            | 12/20 [15:18<10:05, 75.63s/it]\n",
      "  0%|                                                                                 | 0/6 [00:00<?, ?it/s]\u001b[A\n",
      " 17%|████████████▏                                                            | 1/6 [00:12<01:02, 12.44s/it]\u001b[A\n",
      " 33%|████████████████████████▎                                                | 2/6 [00:25<00:50, 12.59s/it]\u001b[A\n",
      " 50%|████████████████████████████████████▌                                    | 3/6 [00:38<00:38, 12.81s/it]\u001b[A\n",
      " 67%|████████████████████████████████████████████████▋                        | 4/6 [00:52<00:26, 13.02s/it]\u001b[A\n",
      " 83%|████████████████████████████████████████████████████████████▊            | 5/6 [01:06<00:13, 13.43s/it]\u001b[A\n",
      "100%|█████████████████████████████████████████████████████████████████████████| 6/6 [01:20<00:00, 13.42s/it]\u001b[A\n",
      " 65%|██████████████████████████████████████████████▏                        | 13/20 [16:38<08:59, 77.09s/it]\n",
      "  0%|                                                                                 | 0/6 [00:00<?, ?it/s]\u001b[A\n",
      " 17%|████████████▏                                                            | 1/6 [00:12<01:04, 12.94s/it]\u001b[A\n",
      " 33%|████████████████████████▎                                                | 2/6 [00:26<00:52, 13.09s/it]\u001b[A\n",
      " 50%|████████████████████████████████████▌                                    | 3/6 [00:40<00:39, 13.28s/it]\u001b[A\n",
      " 67%|████████████████████████████████████████████████▋                        | 4/6 [00:53<00:26, 13.20s/it]\u001b[A\n",
      " 83%|████████████████████████████████████████████████████████████▊            | 5/6 [01:06<00:13, 13.21s/it]\u001b[A\n",
      "100%|█████████████████████████████████████████████████████████████████████████| 6/6 [01:19<00:00, 13.32s/it]\u001b[A\n",
      " 70%|█████████████████████████████████████████████████▋                     | 14/20 [17:58<07:47, 77.93s/it]\n",
      "  0%|                                                                                 | 0/6 [00:00<?, ?it/s]\u001b[A\n",
      " 17%|████████████▏                                                            | 1/6 [00:12<01:02, 12.46s/it]\u001b[A\n",
      " 33%|████████████████████████▎                                                | 2/6 [00:24<00:49, 12.44s/it]\u001b[A\n",
      " 50%|████████████████████████████████████▌                                    | 3/6 [00:37<00:37, 12.52s/it]\u001b[A\n",
      " 67%|████████████████████████████████████████████████▋                        | 4/6 [00:50<00:25, 12.69s/it]\u001b[A\n",
      " 83%|████████████████████████████████████████████████████████████▊            | 5/6 [01:04<00:12, 12.92s/it]\u001b[A\n",
      "100%|█████████████████████████████████████████████████████████████████████████| 6/6 [01:17<00:00, 12.93s/it]\u001b[A\n",
      " 75%|█████████████████████████████████████████████████████▎                 | 15/20 [19:16<06:29, 77.83s/it]\n",
      "  0%|                                                                                 | 0/6 [00:00<?, ?it/s]\u001b[A\n",
      " 17%|████████████▏                                                            | 1/6 [00:13<01:08, 13.62s/it]\u001b[A\n",
      " 33%|████████████████████████▎                                                | 2/6 [00:26<00:54, 13.54s/it]\u001b[A\n",
      " 50%|████████████████████████████████████▌                                    | 3/6 [00:40<00:40, 13.40s/it]\u001b[A\n",
      " 67%|████████████████████████████████████████████████▋                        | 4/6 [00:53<00:26, 13.31s/it]\u001b[A\n",
      " 83%|████████████████████████████████████████████████████████████▊            | 5/6 [01:06<00:13, 13.29s/it]\u001b[A\n",
      "100%|█████████████████████████████████████████████████████████████████████████| 6/6 [01:19<00:00, 13.31s/it]\u001b[A\n",
      " 80%|████████████████████████████████████████████████████████▊              | 16/20 [20:35<05:13, 78.43s/it]\n",
      "  0%|                                                                                 | 0/6 [00:00<?, ?it/s]\u001b[A\n",
      " 17%|████████████▏                                                            | 1/6 [00:12<01:03, 12.64s/it]\u001b[A\n",
      " 33%|████████████████████████▎                                                | 2/6 [00:25<00:50, 12.72s/it]\u001b[A\n",
      " 50%|████████████████████████████████████▌                                    | 3/6 [00:38<00:38, 12.79s/it]\u001b[A\n",
      " 67%|████████████████████████████████████████████████▋                        | 4/6 [00:51<00:25, 12.88s/it]\u001b[A\n",
      " 83%|████████████████████████████████████████████████████████████▊            | 5/6 [01:04<00:13, 13.01s/it]\u001b[A\n",
      "100%|█████████████████████████████████████████████████████████████████████████| 6/6 [01:17<00:00, 12.99s/it]\u001b[A\n",
      " 85%|████████████████████████████████████████████████████████████▎          | 17/20 [21:53<03:54, 78.28s/it]\n",
      "  0%|                                                                                 | 0/6 [00:00<?, ?it/s]\u001b[A\n",
      " 17%|████████████▏                                                            | 1/6 [00:12<01:02, 12.45s/it]\u001b[A\n",
      " 33%|████████████████████████▎                                                | 2/6 [00:25<00:50, 12.51s/it]\u001b[A\n",
      " 50%|████████████████████████████████████▌                                    | 3/6 [00:37<00:37, 12.58s/it]\u001b[A\n",
      " 67%|████████████████████████████████████████████████▋                        | 4/6 [00:50<00:25, 12.67s/it]\u001b[A\n",
      " 83%|████████████████████████████████████████████████████████████▊            | 5/6 [01:03<00:12, 12.83s/it]\u001b[A\n",
      "100%|█████████████████████████████████████████████████████████████████████████| 6/6 [01:17<00:00, 12.86s/it]\u001b[A\n",
      " 90%|███████████████████████████████████████████████████████████████▉       | 18/20 [23:11<02:35, 77.95s/it]\n",
      "  0%|                                                                                 | 0/6 [00:00<?, ?it/s]\u001b[A\n"
     ]
    },
    {
     "name": "stderr",
     "output_type": "stream",
     "text": [
      " 17%|████████████▏                                                            | 1/6 [00:12<01:01, 12.39s/it]\u001b[A\n",
      " 33%|████████████████████████▎                                                | 2/6 [00:25<00:49, 12.49s/it]\u001b[A\n",
      " 50%|████████████████████████████████████▌                                    | 3/6 [00:37<00:37, 12.57s/it]\u001b[A\n",
      " 67%|████████████████████████████████████████████████▋                        | 4/6 [00:50<00:25, 12.58s/it]\u001b[A\n",
      " 83%|████████████████████████████████████████████████████████████▊            | 5/6 [01:03<00:12, 12.75s/it]\u001b[A\n",
      "100%|█████████████████████████████████████████████████████████████████████████| 6/6 [01:16<00:00, 12.81s/it]\u001b[A\n",
      " 95%|███████████████████████████████████████████████████████████████████▍   | 19/20 [24:27<01:17, 77.63s/it]\n",
      "  0%|                                                                                 | 0/6 [00:00<?, ?it/s]\u001b[A\n",
      " 17%|████████████▏                                                            | 1/6 [00:12<01:02, 12.59s/it]\u001b[A\n",
      " 33%|████████████████████████▎                                                | 2/6 [00:25<00:50, 12.58s/it]\u001b[A\n",
      " 50%|████████████████████████████████████▌                                    | 3/6 [00:38<00:37, 12.66s/it]\u001b[A\n",
      " 67%|████████████████████████████████████████████████▋                        | 4/6 [00:50<00:25, 12.72s/it]\u001b[A\n",
      " 83%|████████████████████████████████████████████████████████████▊            | 5/6 [01:03<00:12, 12.82s/it]\u001b[A\n",
      "100%|█████████████████████████████████████████████████████████████████████████| 6/6 [01:16<00:00, 12.83s/it]\u001b[A\n",
      "100%|███████████████████████████████████████████████████████████████████████| 20/20 [25:44<00:00, 77.25s/it]\n"
     ]
    }
   ],
   "source": [
    "RES=pd.concat([pd.concat([getRES(df0,MAX_DEPTH=m) for m in tqdm(np.arange(6,12))]) for run in tqdm(range(20))])"
   ]
  },
  {
   "cell_type": "code",
   "execution_count": 36,
   "metadata": {},
   "outputs": [
    {
     "data": {
      "text/html": [
       "<div>\n",
       "<style scoped>\n",
       "    .dataframe tbody tr th:only-of-type {\n",
       "        vertical-align: middle;\n",
       "    }\n",
       "\n",
       "    .dataframe tbody tr th {\n",
       "        vertical-align: top;\n",
       "    }\n",
       "\n",
       "    .dataframe thead th {\n",
       "        text-align: right;\n",
       "    }\n",
       "</style>\n",
       "<table border=\"1\" class=\"dataframe\">\n",
       "  <thead>\n",
       "    <tr style=\"text-align: right;\">\n",
       "      <th></th>\n",
       "      <th>c1</th>\n",
       "      <th>c2</th>\n",
       "      <th>acc</th>\n",
       "      <th>s1</th>\n",
       "      <th>s2</th>\n",
       "      <th>nq_mean</th>\n",
       "      <th>nq_median</th>\n",
       "    </tr>\n",
       "  </thead>\n",
       "  <tbody>\n",
       "    <tr>\n",
       "      <th>739</th>\n",
       "      <td>0.94</td>\n",
       "      <td>0.89</td>\n",
       "      <td>0.802660</td>\n",
       "      <td>0.768939</td>\n",
       "      <td>0.730950</td>\n",
       "      <td>18.575482</td>\n",
       "      <td>19.0</td>\n",
       "    </tr>\n",
       "    <tr>\n",
       "      <th>590</th>\n",
       "      <td>0.89</td>\n",
       "      <td>0.90</td>\n",
       "      <td>0.802229</td>\n",
       "      <td>0.848088</td>\n",
       "      <td>0.735730</td>\n",
       "      <td>17.517594</td>\n",
       "      <td>18.0</td>\n",
       "    </tr>\n",
       "    <tr>\n",
       "      <th>684</th>\n",
       "      <td>0.92</td>\n",
       "      <td>0.94</td>\n",
       "      <td>0.830276</td>\n",
       "      <td>0.797131</td>\n",
       "      <td>0.747752</td>\n",
       "      <td>21.481271</td>\n",
       "      <td>22.0</td>\n",
       "    </tr>\n",
       "    <tr>\n",
       "      <th>744</th>\n",
       "      <td>0.94</td>\n",
       "      <td>0.94</td>\n",
       "      <td>0.888729</td>\n",
       "      <td>0.904727</td>\n",
       "      <td>0.873488</td>\n",
       "      <td>22.897843</td>\n",
       "      <td>24.0</td>\n",
       "    </tr>\n",
       "    <tr>\n",
       "      <th>774</th>\n",
       "      <td>0.95</td>\n",
       "      <td>0.94</td>\n",
       "      <td>0.907048</td>\n",
       "      <td>0.927906</td>\n",
       "      <td>0.924483</td>\n",
       "      <td>26.595914</td>\n",
       "      <td>27.0</td>\n",
       "    </tr>\n",
       "    <tr>\n",
       "      <th>...</th>\n",
       "      <td>...</td>\n",
       "      <td>...</td>\n",
       "      <td>...</td>\n",
       "      <td>...</td>\n",
       "      <td>...</td>\n",
       "      <td>...</td>\n",
       "      <td>...</td>\n",
       "    </tr>\n",
       "    <tr>\n",
       "      <th>624</th>\n",
       "      <td>0.90</td>\n",
       "      <td>0.94</td>\n",
       "      <td>0.816265</td>\n",
       "      <td>0.825745</td>\n",
       "      <td>0.694057</td>\n",
       "      <td>20.892168</td>\n",
       "      <td>21.0</td>\n",
       "    </tr>\n",
       "    <tr>\n",
       "      <th>744</th>\n",
       "      <td>0.94</td>\n",
       "      <td>0.94</td>\n",
       "      <td>0.869827</td>\n",
       "      <td>0.876368</td>\n",
       "      <td>0.800137</td>\n",
       "      <td>24.242906</td>\n",
       "      <td>24.0</td>\n",
       "    </tr>\n",
       "    <tr>\n",
       "      <th>744</th>\n",
       "      <td>0.94</td>\n",
       "      <td>0.94</td>\n",
       "      <td>0.884609</td>\n",
       "      <td>0.917746</td>\n",
       "      <td>0.832967</td>\n",
       "      <td>26.251986</td>\n",
       "      <td>27.0</td>\n",
       "    </tr>\n",
       "    <tr>\n",
       "      <th>744</th>\n",
       "      <td>0.94</td>\n",
       "      <td>0.94</td>\n",
       "      <td>0.878266</td>\n",
       "      <td>0.919354</td>\n",
       "      <td>0.794058</td>\n",
       "      <td>27.581158</td>\n",
       "      <td>28.0</td>\n",
       "    </tr>\n",
       "    <tr>\n",
       "      <th>744</th>\n",
       "      <td>0.94</td>\n",
       "      <td>0.94</td>\n",
       "      <td>0.898284</td>\n",
       "      <td>0.977980</td>\n",
       "      <td>0.842890</td>\n",
       "      <td>25.032917</td>\n",
       "      <td>25.0</td>\n",
       "    </tr>\n",
       "  </tbody>\n",
       "</table>\n",
       "<p>120 rows × 7 columns</p>\n",
       "</div>"
      ],
      "text/plain": [
       "       c1    c2       acc        s1        s2    nq_mean  nq_median\n",
       "739  0.94  0.89  0.802660  0.768939  0.730950  18.575482       19.0\n",
       "590  0.89  0.90  0.802229  0.848088  0.735730  17.517594       18.0\n",
       "684  0.92  0.94  0.830276  0.797131  0.747752  21.481271       22.0\n",
       "744  0.94  0.94  0.888729  0.904727  0.873488  22.897843       24.0\n",
       "774  0.95  0.94  0.907048  0.927906  0.924483  26.595914       27.0\n",
       "..    ...   ...       ...       ...       ...        ...        ...\n",
       "624  0.90  0.94  0.816265  0.825745  0.694057  20.892168       21.0\n",
       "744  0.94  0.94  0.869827  0.876368  0.800137  24.242906       24.0\n",
       "744  0.94  0.94  0.884609  0.917746  0.832967  26.251986       27.0\n",
       "744  0.94  0.94  0.878266  0.919354  0.794058  27.581158       28.0\n",
       "744  0.94  0.94  0.898284  0.977980  0.842890  25.032917       25.0\n",
       "\n",
       "[120 rows x 7 columns]"
      ]
     },
     "execution_count": 36,
     "metadata": {},
     "output_type": "execute_result"
    }
   ],
   "source": [
    "RES"
   ]
  },
  {
   "cell_type": "code",
   "execution_count": null,
   "metadata": {},
   "outputs": [],
   "source": []
  },
  {
   "cell_type": "code",
   "execution_count": 37,
   "metadata": {},
   "outputs": [
    {
     "data": {
      "text/plain": [
       "<matplotlib.axes._subplots.AxesSubplot at 0x7f7d225cc750>"
      ]
     },
     "execution_count": 37,
     "metadata": {},
     "output_type": "execute_result"
    },
    {
     "data": {
      "image/png": "[encoded data removed]",
      "text/plain": [
       "<Figure size 432x288 with 1 Axes>"
      ]
     },
     "metadata": {
      "needs_background": "light"
     },
     "output_type": "display_data"
    }
   ],
   "source": [
    "RES.set_index('nq_median').acc.plot(style='ko')"
   ]
  },
  {
   "cell_type": "code",
   "execution_count": 38,
   "metadata": {},
   "outputs": [
    {
     "data": {
      "image/png": "[encoded data removed]",
      "text/plain": [
       "<Figure size 432x288 with 1 Axes>"
      ]
     },
     "metadata": {
      "needs_background": "light"
     },
     "output_type": "display_data"
    }
   ],
   "source": [
    "ax=sns.regplot(x=RES.nq_mean,y=RES.acc,ci=99.999,lowess=True)\n",
    "ax.set_xlabel('mean number of items')\n",
    "ax.set_ylabel('mean accuracy')\n",
    "plt.savefig('accvsitemnumber_eegplus.png',dpi=200,bbox_inches='tight',transparent=True)"
   ]
  },
  {
   "cell_type": "code",
   "execution_count": 39,
   "metadata": {},
   "outputs": [
    {
     "name": "stderr",
     "output_type": "stream",
     "text": [
      "/home/ishanu/.local/lib/python3.7/site-packages/pandas/core/frame.py:9138: FutureWarning: Passing 'suffixes' which cause duplicate columns {'0'} in the result is deprecated and will raise a MergeError in a future version.\n",
      "  sort=sort,\n"
     ]
    },
    {
     "data": {
      "image/png": "[encoded data removed]",
      "text/plain": [
       "<Figure size 432x288 with 1 Axes>"
      ]
     },
     "metadata": {},
     "output_type": "display_data"
    }
   ],
   "source": [
    "plt.style.use('fivethirtyeight')\n",
    "df=pd.DataFrame(RES.set_index('nq_mean').acc)\n",
    "import scipy.stats as stats\n",
    "import statsmodels.api as sm\n",
    "from scipy import interpolate\n",
    "from scipy.interpolate import interp1d\n",
    "\n",
    "lowess = sm.nonparametric.lowess\n",
    "df.index=df.index.astype(float)\n",
    "df=df.sort_index()\n",
    "S=.2\n",
    "RUNS=50\n",
    "DF=df\n",
    "   \n",
    "for i in range(RUNS):\n",
    "    X=df.sample(int(np.round(S*df.index.size))).sort_index().reset_index().values\n",
    "\n",
    "    z = lowess(X[:,1], X[:,0], frac= .25)\n",
    "    f = interp1d(z[:,0], z[:,1])\n",
    "    Y=f(X[:,0])\n",
    "    DF=DF.join(pd.DataFrame(Y,X[:,0]),rsuffix=str(i))\n",
    "DF=DF.interpolate(method='index',order=3,limit_direction='both')\n",
    "STD=pd.DataFrame(2.62*(DF.std(axis=1)/np.sqrt(RUNS)))\n",
    "Mf=pd.DataFrame(DF.mean(axis=1)).assign(sm=STD)\n",
    "Mf.columns=['mn','sm']\n",
    "ax=Mf.mn.plot()\n",
    "plt.fill_between(Mf.index,Mf.mn-Mf.sm,Mf.mn+Mf.sm,alpha=.35)\n",
    "ax.set_xlabel('mean number of items')\n",
    "ax.set_ylabel('mean accuracy')\n",
    "plt.savefig('accvsitemnumber1eegplus.png',dpi=200,bbox_inches='tight',transparent=True)"
   ]
  },
  {
   "cell_type": "code",
   "execution_count": 26,
   "metadata": {
    "scrolled": false
   },
   "outputs": [
    {
     "data": {
      "text/plain": [
       "Text(0, 0.5, 'mean accuracy')"
      ]
     },
     "execution_count": 26,
     "metadata": {},
     "output_type": "execute_result"
    },
    {
     "data": {
      "image/png": "[encoded data removed]",
      "text/plain": [
       "<Figure size 432x288 with 1 Axes>"
      ]
     },
     "metadata": {},
     "output_type": "display_data"
    }
   ],
   "source": [
    "df=pd.DataFrame(RES.set_index('nq_median').acc)\n",
    "import scipy.stats as stats\n",
    "import statsmodels.api as sm\n",
    "from scipy import interpolate\n",
    "from scipy.interpolate import interp1d\n",
    "\n",
    "lowess = sm.nonparametric.lowess\n",
    "df.index=df.index.astype(float)\n",
    "df=df.sort_index()\n",
    "S=.3\n",
    "RUNS=8\n",
    "DF=df\n",
    "\n",
    "for i in range(RUNS):\n",
    "    X=df.sample(int(np.round(S*df.index.size))).sort_index().reset_index().values\n",
    "\n",
    "    z = lowess(X[:,1], X[:,0], frac= .35)\n",
    "    f = interp1d(z[:,0], z[:,1])\n",
    "    Y=f(X[:,0])\n",
    "    DF=DF.join(pd.DataFrame(Y,X[:,0]),rsuffix=str(i))\n",
    "DF=DF.interpolate(method='index',order=3,limit_direction='both')\n",
    "STD=pd.DataFrame(2.62*(DF.std(axis=1)/np.sqrt(RUNS)))\n",
    "Mf=pd.DataFrame(DF.mean(axis=1)).assign(sm=STD)\n",
    "Mf.columns=['mn','sm']\n",
    "ax=Mf.mn.plot()\n",
    "plt.fill_between(Mf.index,Mf.mn-Mf.sm,Mf.mn+Mf.sm,alpha=.5)\n",
    "ax.set_xlabel('mean number of items')\n",
    "ax.set_ylabel('mean accuracy')\n"
   ]
  },
  {
   "cell_type": "code",
   "execution_count": null,
   "metadata": {},
   "outputs": [],
   "source": []
  },
  {
   "cell_type": "code",
   "execution_count": 27,
   "metadata": {},
   "outputs": [
    {
     "name": "stderr",
     "output_type": "stream",
     "text": [
      "\n",
      "\n",
      "  0%|          | 0/120 [00:00<?, ?it/s]\u001b[A\u001b[A\n"
     ]
    },
    {
     "ename": "NameError",
     "evalue": "name 'CLFstarA' is not defined",
     "output_type": "error",
     "traceback": [
      "\u001b[0;31m---------------------------------------------------------------------------\u001b[0m",
      "\u001b[0;31mNameError\u001b[0m                                 Traceback (most recent call last)",
      "\u001b[0;32m<ipython-input-27-0528cb0c7fab>\u001b[0m in \u001b[0;36m<module>\u001b[0;34m\u001b[0m\n\u001b[1;32m      4\u001b[0m \u001b[0;32mfor\u001b[0m \u001b[0msample_id\u001b[0m \u001b[0;32min\u001b[0m \u001b[0mtqdm\u001b[0m\u001b[0;34m(\u001b[0m\u001b[0mnp\u001b[0m\u001b[0;34m.\u001b[0m\u001b[0marange\u001b[0m\u001b[0;34m(\u001b[0m\u001b[0mlen\u001b[0m\u001b[0;34m(\u001b[0m\u001b[0mX_test\u001b[0m\u001b[0;34m)\u001b[0m\u001b[0;34m)\u001b[0m\u001b[0;34m)\u001b[0m\u001b[0;34m:\u001b[0m\u001b[0;34m\u001b[0m\u001b[0;34m\u001b[0m\u001b[0m\n\u001b[1;32m      5\u001b[0m     \u001b[0mNode_index\u001b[0m\u001b[0;34m=\u001b[0m\u001b[0;34m[\u001b[0m\u001b[0;34m]\u001b[0m\u001b[0;34m\u001b[0m\u001b[0;34m\u001b[0m\u001b[0m\n\u001b[0;32m----> 6\u001b[0;31m     \u001b[0;32mfor\u001b[0m \u001b[0mi\u001b[0m \u001b[0;32min\u001b[0m \u001b[0mCLFstarA\u001b[0m\u001b[0;34m.\u001b[0m\u001b[0mestimators_\u001b[0m\u001b[0;34m:\u001b[0m\u001b[0;34m\u001b[0m\u001b[0;34m\u001b[0m\u001b[0m\n\u001b[0m\u001b[1;32m      7\u001b[0m         \u001b[0mthreshold\u001b[0m\u001b[0;34m=\u001b[0m \u001b[0mi\u001b[0m\u001b[0;34m.\u001b[0m\u001b[0mtree_\u001b[0m\u001b[0;34m.\u001b[0m\u001b[0mthreshold\u001b[0m\u001b[0;34m\u001b[0m\u001b[0;34m\u001b[0m\u001b[0m\n\u001b[1;32m      8\u001b[0m         \u001b[0mfeature\u001b[0m\u001b[0;34m=\u001b[0m \u001b[0mi\u001b[0m\u001b[0;34m.\u001b[0m\u001b[0mtree_\u001b[0m\u001b[0;34m.\u001b[0m\u001b[0mfeature\u001b[0m\u001b[0;34m\u001b[0m\u001b[0;34m\u001b[0m\u001b[0m\n",
      "\u001b[0;31mNameError\u001b[0m: name 'CLFstarA' is not defined"
     ]
    }
   ],
   "source": [
    "X_test=df.values.astype(np.float32)\n",
    "L=[]\n",
    "\n",
    "for sample_id in tqdm(np.arange(len(X_test))):\n",
    "    Node_index=[]\n",
    "    for i in CLFstarA.estimators_:\n",
    "        threshold= i.tree_.threshold\n",
    "        feature= i.tree_.feature\n",
    "        node_indicator = i.tree_.decision_path(X_test)\n",
    "        leaf_id = i.tree_.apply(X_test)\n",
    "\n",
    "        node_index = node_indicator.indices[\n",
    "        node_indicator.indptr[sample_id] : node_indicator.indptr[sample_id + 1]]\n",
    "        Node_index=np.append(Node_index,node_index)\n",
    "    \n",
    "    for i in CLFstarB.estimators_:\n",
    "        threshold= i.tree_.threshold\n",
    "        feature= i.tree_.feature\n",
    "        node_indicator = i.tree_.decision_path(X_test)\n",
    "        leaf_id = i.tree_.apply(X_test)\n",
    "\n",
    "        node_index = node_indicator.indices[\n",
    "        node_indicator.indptr[sample_id] : node_indicator.indptr[sample_id + 1]]\n",
    "        Node_index=np.append(Node_index,node_index)\n",
    "    L=np.append(L,len(set(Node_index))-2)\n",
    "L=np.array(L)\n",
    "print(np.mean(L),np.median(L))\n",
    "sns.displot(L);\n"
   ]
  },
  {
   "cell_type": "code",
   "execution_count": null,
   "metadata": {},
   "outputs": [],
   "source": []
  },
  {
   "cell_type": "code",
   "execution_count": 28,
   "metadata": {},
   "outputs": [
    {
     "name": "stderr",
     "output_type": "stream",
     "text": [
      "\n",
      "\n",
      "  0%|          | 0/500 [00:00<?, ?it/s]\u001b[A\u001b[A\n",
      "\n",
      "  3%|▎         | 14/500 [00:00<00:03, 136.66it/s]\u001b[A\u001b[A\n",
      "\n",
      "  6%|▌         | 31/500 [00:00<00:03, 143.14it/s]\u001b[A\u001b[A\n",
      "\n",
      " 10%|▉         | 48/500 [00:00<00:03, 148.67it/s]\u001b[A\u001b[A\n",
      "\n",
      " 13%|█▎        | 65/500 [00:00<00:02, 152.95it/s]\u001b[A\u001b[A\n",
      "\n",
      " 16%|█▋        | 82/500 [00:00<00:02, 155.60it/s]\u001b[A\u001b[A\n",
      "\n",
      " 20%|█▉        | 98/500 [00:00<00:02, 156.07it/s]\u001b[A\u001b[A\n",
      "\n",
      " 23%|██▎       | 114/500 [00:00<00:02, 156.08it/s]\u001b[A\u001b[A\n",
      "\n",
      " 26%|██▌       | 130/500 [00:00<00:02, 155.56it/s]\u001b[A\u001b[A\n",
      "\n",
      " 29%|██▉       | 146/500 [00:00<00:02, 156.59it/s]\u001b[A\u001b[A\n",
      "\n",
      " 33%|███▎      | 163/500 [00:01<00:02, 158.70it/s]\u001b[A\u001b[A\n",
      "\n",
      " 36%|███▌      | 179/500 [00:01<00:02, 159.03it/s]\u001b[A\u001b[A\n",
      "\n",
      " 39%|███▉      | 196/500 [00:01<00:01, 159.60it/s]\u001b[A\u001b[A\n",
      "\n",
      " 42%|████▏     | 212/500 [00:01<00:01, 159.46it/s]\u001b[A\u001b[A\n",
      "\n",
      " 46%|████▌     | 229/500 [00:01<00:01, 160.76it/s]\u001b[A\u001b[A\n",
      "\n",
      " 49%|████▉     | 246/500 [00:01<00:01, 161.61it/s]\u001b[A\u001b[A\n",
      "\n",
      " 53%|█████▎    | 263/500 [00:01<00:01, 161.49it/s]\u001b[A\u001b[A\n",
      "\n",
      " 56%|█████▌    | 280/500 [00:01<00:01, 161.52it/s]\u001b[A\u001b[A\n",
      "\n",
      " 59%|█████▉    | 297/500 [00:01<00:01, 161.55it/s]\u001b[A\u001b[A\n",
      "\n",
      " 63%|██████▎   | 314/500 [00:01<00:01, 161.84it/s]\u001b[A\u001b[A\n",
      "\n",
      " 66%|██████▌   | 331/500 [00:02<00:01, 162.53it/s]\u001b[A\u001b[A\n",
      "\n",
      " 70%|██████▉   | 348/500 [00:02<00:00, 162.20it/s]\u001b[A\u001b[A\n",
      "\n",
      " 73%|███████▎  | 365/500 [00:02<00:00, 161.47it/s]\u001b[A\u001b[A\n",
      "\n",
      " 76%|███████▋  | 382/500 [00:02<00:00, 160.25it/s]\u001b[A\u001b[A\n",
      "\n",
      " 80%|███████▉  | 399/500 [00:02<00:00, 159.46it/s]\u001b[A\u001b[A\n",
      "\n",
      " 83%|████████▎ | 415/500 [00:02<00:00, 158.85it/s]\u001b[A\u001b[A\n",
      "\n",
      " 86%|████████▌ | 431/500 [00:02<00:00, 155.86it/s]\u001b[A\u001b[A\n",
      "\n",
      " 89%|████████▉ | 447/500 [00:02<00:00, 151.54it/s]\u001b[A\u001b[A\n",
      "\n",
      " 93%|█████████▎| 464/500 [00:02<00:00, 154.84it/s]\u001b[A\u001b[A\n",
      "\n",
      " 96%|█████████▌| 481/500 [00:03<00:00, 156.75it/s]\u001b[A\u001b[A\n",
      "\n",
      "100%|██████████| 500/500 [00:03<00:00, 158.66it/s]\u001b[A\u001b[A\n"
     ]
    },
    {
     "ename": "TypeError",
     "evalue": "getFmap() missing 2 required positional arguments: 'X' and 'y'",
     "output_type": "error",
     "traceback": [
      "\u001b[0;31m---------------------------------------------------------------------------\u001b[0m",
      "\u001b[0;31mTypeError\u001b[0m                                 Traceback (most recent call last)",
      "\u001b[0;32m<ipython-input-28-579589f4b75f>\u001b[0m in \u001b[0;36m<module>\u001b[0;34m\u001b[0m\n\u001b[1;32m     14\u001b[0m         \u001b[0mCLFh\u001b[0m\u001b[0;34m[\u001b[0m\u001b[0mauc\u001b[0m\u001b[0;34m]\u001b[0m\u001b[0;34m=\u001b[0m\u001b[0mCLFS\u001b[0m\u001b[0;34m\u001b[0m\u001b[0;34m\u001b[0m\u001b[0m\n\u001b[1;32m     15\u001b[0m \u001b[0mCLFstarA\u001b[0m\u001b[0;34m=\u001b[0m\u001b[0mCLFh\u001b[0m\u001b[0;34m[\u001b[0m\u001b[0mnp\u001b[0m\u001b[0;34m.\u001b[0m\u001b[0marray\u001b[0m\u001b[0;34m(\u001b[0m\u001b[0;34m[\u001b[0m\u001b[0mk\u001b[0m \u001b[0;32mfor\u001b[0m \u001b[0mk\u001b[0m \u001b[0;32min\u001b[0m \u001b[0mCLFh\u001b[0m\u001b[0;34m.\u001b[0m\u001b[0mkeys\u001b[0m\u001b[0;34m(\u001b[0m\u001b[0;34m)\u001b[0m\u001b[0;34m]\u001b[0m\u001b[0;34m)\u001b[0m\u001b[0;34m.\u001b[0m\u001b[0mmax\u001b[0m\u001b[0;34m(\u001b[0m\u001b[0;34m)\u001b[0m\u001b[0;34m]\u001b[0m\u001b[0;34m[\u001b[0m\u001b[0;36m0\u001b[0m\u001b[0;34m]\u001b[0m\u001b[0;34m\u001b[0m\u001b[0;34m\u001b[0m\u001b[0m\n\u001b[0;32m---> 16\u001b[0;31m \u001b[0mf1\u001b[0m\u001b[0;34m=\u001b[0m\u001b[0mgetFmap\u001b[0m\u001b[0;34m(\u001b[0m\u001b[0mCLFstarA\u001b[0m\u001b[0;34m)\u001b[0m\u001b[0;34m\u001b[0m\u001b[0;34m\u001b[0m\u001b[0m\n\u001b[0m\u001b[1;32m     17\u001b[0m \u001b[0;34m\u001b[0m\u001b[0m\n\u001b[1;32m     18\u001b[0m \u001b[0;34m\u001b[0m\u001b[0m\n",
      "\u001b[0;31mTypeError\u001b[0m: getFmap() missing 2 required positional arguments: 'X' and 'y'"
     ]
    }
   ],
   "source": [
    "#df=df0[df0.Biotype.isin([1,5])]\n",
    "df=df0\n",
    "X=df.iloc[:,2:].values\n",
    "y=df.Biotype.values#.astype(str)\n",
    "y=[(int(x)==2)+0 for x in y ]\n",
    "\n",
    "ACC=[]\n",
    "CLFh={}\n",
    "for run in tqdm(np.arange(500)):\n",
    "    auc,CLFS=getAuc(X,y,test_size=0.2,max_depth=MAX_DEPTH,n_estimators=NUMESTIMATORS,\n",
    "               minsplit=2,VERBOSE=False, USE_ONLY=[2])\n",
    "    ACC=np.append(ACC,auc)\n",
    "    if auc > 0.5:\n",
    "        CLFh[auc]=CLFS\n",
    "CLFstarA=CLFh[np.array([k for k in CLFh.keys()]).max()][0]\n",
    "f1=getFmap(CLFstarA)\n",
    "\n",
    "\n",
    "#df=df0[df0.Biotype.isin([1,5])]\n",
    "df=df0\n",
    "X=df.iloc[:,2:].values\n",
    "y=df.Biotype.values#.astype(str)\n",
    "y=[(int(x)==3)+0 for x in y ]\n",
    "\n",
    "ACC=[]\n",
    "CLFh={}\n",
    "for run in tqdm(np.arange(500)):\n",
    "    auc,CLFS=getAuc(X,y,test_size=0.2,max_depth=MAX_DEPTH,n_estimators=NUMESTIMATORS,\n",
    "               minsplit=2,VERBOSE=False, USE_ONLY=[2])\n",
    "    ACC=np.append(ACC,auc)\n",
    "    if auc > 0.5:\n",
    "        CLFh[auc]=CLFS\n",
    "CLFstarB=CLFh[np.array([k for k in CLFh.keys()]).max()][0]\n",
    "f2=getFmap(CLFstarB)"
   ]
  },
  {
   "cell_type": "code",
   "execution_count": null,
   "metadata": {},
   "outputs": [],
   "source": [
    "L"
   ]
  },
  {
   "cell_type": "code",
   "execution_count": 29,
   "metadata": {},
   "outputs": [
    {
     "ename": "NameError",
     "evalue": "name 'node_indicator' is not defined",
     "output_type": "error",
     "traceback": [
      "\u001b[0;31m---------------------------------------------------------------------------\u001b[0m",
      "\u001b[0;31mNameError\u001b[0m                                 Traceback (most recent call last)",
      "\u001b[0;32m<ipython-input-29-5d3f2d0e32a4>\u001b[0m in \u001b[0;36m<module>\u001b[0;34m\u001b[0m\n\u001b[1;32m      1\u001b[0m \u001b[0mL\u001b[0m\u001b[0;34m=\u001b[0m\u001b[0;34m[\u001b[0m\u001b[0;34m]\u001b[0m\u001b[0;34m\u001b[0m\u001b[0;34m\u001b[0m\u001b[0m\n\u001b[1;32m      2\u001b[0m \u001b[0;32mfor\u001b[0m \u001b[0msample_id\u001b[0m \u001b[0;32min\u001b[0m \u001b[0mnp\u001b[0m\u001b[0;34m.\u001b[0m\u001b[0marange\u001b[0m\u001b[0;34m(\u001b[0m\u001b[0mlen\u001b[0m\u001b[0;34m(\u001b[0m\u001b[0mX_test\u001b[0m\u001b[0;34m)\u001b[0m\u001b[0;34m)\u001b[0m\u001b[0;34m:\u001b[0m\u001b[0;34m\u001b[0m\u001b[0;34m\u001b[0m\u001b[0m\n\u001b[0;32m----> 3\u001b[0;31m     node_index = node_indicator.indices[\n\u001b[0m\u001b[1;32m      4\u001b[0m     node_indicator.indptr[sample_id] : node_indicator.indptr[sample_id + 1]]\n\u001b[1;32m      5\u001b[0m     \u001b[0mL\u001b[0m\u001b[0;34m=\u001b[0m\u001b[0mnp\u001b[0m\u001b[0;34m.\u001b[0m\u001b[0mappend\u001b[0m\u001b[0;34m(\u001b[0m\u001b[0mL\u001b[0m\u001b[0;34m,\u001b[0m\u001b[0mlen\u001b[0m\u001b[0;34m(\u001b[0m\u001b[0mset\u001b[0m\u001b[0;34m(\u001b[0m\u001b[0mnode_index\u001b[0m\u001b[0;34m)\u001b[0m\u001b[0;34m)\u001b[0m\u001b[0;34m-\u001b[0m\u001b[0;36m1\u001b[0m\u001b[0;34m)\u001b[0m\u001b[0;34m\u001b[0m\u001b[0;34m\u001b[0m\u001b[0m\n",
      "\u001b[0;31mNameError\u001b[0m: name 'node_indicator' is not defined"
     ]
    }
   ],
   "source": [
    "L=[]\n",
    "for sample_id in np.arange(len(X_test)):\n",
    "    node_index = node_indicator.indices[\n",
    "    node_indicator.indptr[sample_id] : node_indicator.indptr[sample_id + 1]]\n",
    "    L=np.append(L,len(set(node_index))-1)\n",
    "L=np.array(L)\n",
    "np.median(L)"
   ]
  },
  {
   "cell_type": "code",
   "execution_count": 30,
   "metadata": {},
   "outputs": [
    {
     "ename": "NameError",
     "evalue": "name 'node_indicator' is not defined",
     "output_type": "error",
     "traceback": [
      "\u001b[0;31m---------------------------------------------------------------------------\u001b[0m",
      "\u001b[0;31mNameError\u001b[0m                                 Traceback (most recent call last)",
      "\u001b[0;32m<ipython-input-30-4df7a4031b57>\u001b[0m in \u001b[0;36m<module>\u001b[0;34m\u001b[0m\n\u001b[1;32m      1\u001b[0m \u001b[0msample_id\u001b[0m \u001b[0;34m=\u001b[0m \u001b[0;36m0\u001b[0m\u001b[0;34m\u001b[0m\u001b[0;34m\u001b[0m\u001b[0m\n\u001b[1;32m      2\u001b[0m \u001b[0;31m# obtain ids of the nodes `sample_id` goes through, i.e., row `sample_id`\u001b[0m\u001b[0;34m\u001b[0m\u001b[0;34m\u001b[0m\u001b[0;34m\u001b[0m\u001b[0m\n\u001b[0;32m----> 3\u001b[0;31m node_index = node_indicator.indices[\n\u001b[0m\u001b[1;32m      4\u001b[0m     \u001b[0mnode_indicator\u001b[0m\u001b[0;34m.\u001b[0m\u001b[0mindptr\u001b[0m\u001b[0;34m[\u001b[0m\u001b[0msample_id\u001b[0m\u001b[0;34m]\u001b[0m \u001b[0;34m:\u001b[0m \u001b[0mnode_indicator\u001b[0m\u001b[0;34m.\u001b[0m\u001b[0mindptr\u001b[0m\u001b[0;34m[\u001b[0m\u001b[0msample_id\u001b[0m \u001b[0;34m+\u001b[0m \u001b[0;36m1\u001b[0m\u001b[0;34m]\u001b[0m\u001b[0;34m\u001b[0m\u001b[0;34m\u001b[0m\u001b[0m\n\u001b[1;32m      5\u001b[0m ]\n",
      "\u001b[0;31mNameError\u001b[0m: name 'node_indicator' is not defined"
     ]
    }
   ],
   "source": [
    "sample_id = 0\n",
    "# obtain ids of the nodes `sample_id` goes through, i.e., row `sample_id`\n",
    "node_index = node_indicator.indices[\n",
    "    node_indicator.indptr[sample_id] : node_indicator.indptr[sample_id + 1]\n",
    "]\n",
    "\n",
    "print(node_index)\n"
   ]
  },
  {
   "cell_type": "code",
   "execution_count": 31,
   "metadata": {},
   "outputs": [
    {
     "ename": "NameError",
     "evalue": "name 'node_indicator' is not defined",
     "output_type": "error",
     "traceback": [
      "\u001b[0;31m---------------------------------------------------------------------------\u001b[0m",
      "\u001b[0;31mNameError\u001b[0m                                 Traceback (most recent call last)",
      "\u001b[0;32m<ipython-input-31-9ace64ef8e69>\u001b[0m in \u001b[0;36m<module>\u001b[0;34m\u001b[0m\n\u001b[1;32m      1\u001b[0m \u001b[0msample_id\u001b[0m \u001b[0;34m=\u001b[0m \u001b[0;36m0\u001b[0m\u001b[0;34m\u001b[0m\u001b[0;34m\u001b[0m\u001b[0m\n\u001b[1;32m      2\u001b[0m \u001b[0;31m# obtain ids of the nodes `sample_id` goes through, i.e., row `sample_id`\u001b[0m\u001b[0;34m\u001b[0m\u001b[0;34m\u001b[0m\u001b[0;34m\u001b[0m\u001b[0m\n\u001b[0;32m----> 3\u001b[0;31m node_index = node_indicator.indices[\n\u001b[0m\u001b[1;32m      4\u001b[0m     \u001b[0mnode_indicator\u001b[0m\u001b[0;34m.\u001b[0m\u001b[0mindptr\u001b[0m\u001b[0;34m[\u001b[0m\u001b[0msample_id\u001b[0m\u001b[0;34m]\u001b[0m \u001b[0;34m:\u001b[0m \u001b[0mnode_indicator\u001b[0m\u001b[0;34m.\u001b[0m\u001b[0mindptr\u001b[0m\u001b[0;34m[\u001b[0m\u001b[0msample_id\u001b[0m \u001b[0;34m+\u001b[0m \u001b[0;36m1\u001b[0m\u001b[0;34m]\u001b[0m\u001b[0;34m\u001b[0m\u001b[0;34m\u001b[0m\u001b[0m\n\u001b[1;32m      5\u001b[0m ]\n",
      "\u001b[0;31mNameError\u001b[0m: name 'node_indicator' is not defined"
     ]
    }
   ],
   "source": [
    "sample_id = 0\n",
    "# obtain ids of the nodes `sample_id` goes through, i.e., row `sample_id`\n",
    "node_index = node_indicator.indices[\n",
    "    node_indicator.indptr[sample_id] : node_indicator.indptr[sample_id + 1]\n",
    "]\n",
    "\n",
    "#feature=['x'+str(i) for i in node_index]\n",
    "\n",
    "print(\"Rules used to predict sample {id}:\\n\".format(id=sample_id))\n",
    "for node_id in node_index:\n",
    "    # continue to the next node if it is a leaf node\n",
    "    if leaf_id[sample_id] == node_id:\n",
    "        continue\n",
    "\n",
    "    # check if value of the split feature for sample 0 is below threshold\n",
    "    if X_test[sample_id, feature[node_id]] <= threshold[node_id]:\n",
    "        threshold_sign = \"<=\"\n",
    "    else:\n",
    "        threshold_sign = \">\"\n",
    "\n",
    "    print(\n",
    "        \"decision node {node} : (X_test[{sample}, {feature}] = {value}) \"\n",
    "        \"{inequality} {threshold})\".format(\n",
    "            node=node_id,\n",
    "            sample=sample_id,\n",
    "            feature=feature[node_id],\n",
    "            value=X_test[sample_id, feature[node_id]],\n",
    "            inequality=threshold_sign,\n",
    "            threshold=threshold[node_id],\n",
    "        )\n",
    "    )"
   ]
  },
  {
   "cell_type": "code",
   "execution_count": 32,
   "metadata": {},
   "outputs": [
    {
     "ename": "NameError",
     "evalue": "name 'CLFstar' is not defined",
     "output_type": "error",
     "traceback": [
      "\u001b[0;31m---------------------------------------------------------------------------\u001b[0m",
      "\u001b[0;31mNameError\u001b[0m                                 Traceback (most recent call last)",
      "\u001b[0;32m<ipython-input-32-d4221a7b3e16>\u001b[0m in \u001b[0;36m<module>\u001b[0;34m\u001b[0m\n\u001b[1;32m      1\u001b[0m \u001b[0mX_test\u001b[0m\u001b[0;34m=\u001b[0m\u001b[0mdf\u001b[0m\u001b[0;34m.\u001b[0m\u001b[0mvalues\u001b[0m\u001b[0;34m.\u001b[0m\u001b[0mastype\u001b[0m\u001b[0;34m(\u001b[0m\u001b[0mnp\u001b[0m\u001b[0;34m.\u001b[0m\u001b[0mfloat32\u001b[0m\u001b[0;34m)\u001b[0m\u001b[0;34m\u001b[0m\u001b[0;34m\u001b[0m\u001b[0m\n\u001b[0;32m----> 2\u001b[0;31m \u001b[0mthreshold\u001b[0m\u001b[0;34m=\u001b[0m \u001b[0mCLFstar\u001b[0m\u001b[0;34m.\u001b[0m\u001b[0mestimators_\u001b[0m\u001b[0;34m[\u001b[0m\u001b[0;36m0\u001b[0m\u001b[0;34m]\u001b[0m\u001b[0;34m.\u001b[0m\u001b[0mtree_\u001b[0m\u001b[0;34m.\u001b[0m\u001b[0mthreshold\u001b[0m\u001b[0;34m\u001b[0m\u001b[0;34m\u001b[0m\u001b[0m\n\u001b[0m\u001b[1;32m      3\u001b[0m \u001b[0mfeature\u001b[0m\u001b[0;34m=\u001b[0m \u001b[0mCLFstar\u001b[0m\u001b[0;34m.\u001b[0m\u001b[0mestimators_\u001b[0m\u001b[0;34m[\u001b[0m\u001b[0;36m0\u001b[0m\u001b[0;34m]\u001b[0m\u001b[0;34m.\u001b[0m\u001b[0mtree_\u001b[0m\u001b[0;34m.\u001b[0m\u001b[0mfeature\u001b[0m\u001b[0;34m\u001b[0m\u001b[0;34m\u001b[0m\u001b[0m\n\u001b[1;32m      4\u001b[0m \u001b[0;34m\u001b[0m\u001b[0m\n\u001b[1;32m      5\u001b[0m \u001b[0;34m\u001b[0m\u001b[0m\n",
      "\u001b[0;31mNameError\u001b[0m: name 'CLFstar' is not defined"
     ]
    }
   ],
   "source": [
    "X_test=df.values.astype(np.float32)\n",
    "threshold= CLFstar.estimators_[0].tree_.threshold\n",
    "feature= CLFstar.estimators_[0].tree_.feature\n",
    "\n",
    "\n",
    "node_indicator = CLFstar.estimators_[0].tree_.decision_path(X_test)\n",
    "leaf_id = CLFstar.estimators_[0].tree_.apply(X_test)"
   ]
  },
  {
   "cell_type": "code",
   "execution_count": null,
   "metadata": {},
   "outputs": [],
   "source": []
  },
  {
   "cell_type": "code",
   "execution_count": null,
   "metadata": {},
   "outputs": [],
   "source": []
  },
  {
   "cell_type": "code",
   "execution_count": null,
   "metadata": {},
   "outputs": [],
   "source": []
  },
  {
   "cell_type": "code",
   "execution_count": null,
   "metadata": {},
   "outputs": [],
   "source": []
  },
  {
   "cell_type": "code",
   "execution_count": 33,
   "metadata": {},
   "outputs": [
    {
     "ename": "NameError",
     "evalue": "name 'R' is not defined",
     "output_type": "error",
     "traceback": [
      "\u001b[0;31m---------------------------------------------------------------------------\u001b[0m",
      "\u001b[0;31mNameError\u001b[0m                                 Traceback (most recent call last)",
      "\u001b[0;32m<ipython-input-33-62007d84357a>\u001b[0m in \u001b[0;36m<module>\u001b[0;34m\u001b[0m\n\u001b[0;32m----> 1\u001b[0;31m \u001b[0mR\u001b[0m\u001b[0;34m.\u001b[0m\u001b[0msort_values\u001b[0m\u001b[0;34m(\u001b[0m\u001b[0;34m'acc'\u001b[0m\u001b[0;34m,\u001b[0m\u001b[0mascending\u001b[0m\u001b[0;34m=\u001b[0m\u001b[0;32mFalse\u001b[0m\u001b[0;34m)\u001b[0m\u001b[0;34m\u001b[0m\u001b[0;34m\u001b[0m\u001b[0m\n\u001b[0m",
      "\u001b[0;31mNameError\u001b[0m: name 'R' is not defined"
     ]
    }
   ],
   "source": [
    "R.sort_values('acc',ascending=False)"
   ]
  },
  {
   "cell_type": "code",
   "execution_count": 34,
   "metadata": {},
   "outputs": [
    {
     "ename": "NameError",
     "evalue": "name 'R_' is not defined",
     "output_type": "error",
     "traceback": [
      "\u001b[0;31m---------------------------------------------------------------------------\u001b[0m",
      "\u001b[0;31mNameError\u001b[0m                                 Traceback (most recent call last)",
      "\u001b[0;32m<ipython-input-34-f3eaca46061a>\u001b[0m in \u001b[0;36m<module>\u001b[0;34m\u001b[0m\n\u001b[0;32m----> 1\u001b[0;31m \u001b[0max\u001b[0m\u001b[0;34m=\u001b[0m\u001b[0msns\u001b[0m\u001b[0;34m.\u001b[0m\u001b[0mheatmap\u001b[0m\u001b[0;34m(\u001b[0m\u001b[0mR_\u001b[0m\u001b[0;34m)\u001b[0m\u001b[0;34m\u001b[0m\u001b[0;34m\u001b[0m\u001b[0m\n\u001b[0m\u001b[1;32m      2\u001b[0m \u001b[0max\u001b[0m\u001b[0;34m.\u001b[0m\u001b[0mset_xlabel\u001b[0m\u001b[0;34m(\u001b[0m\u001b[0;34m'c-2vall'\u001b[0m\u001b[0;34m)\u001b[0m\u001b[0;34m\u001b[0m\u001b[0;34m\u001b[0m\u001b[0m\n\u001b[1;32m      3\u001b[0m \u001b[0max\u001b[0m\u001b[0;34m.\u001b[0m\u001b[0mset_ylabel\u001b[0m\u001b[0;34m(\u001b[0m\u001b[0;34m'c-3vall'\u001b[0m\u001b[0;34m)\u001b[0m\u001b[0;34m\u001b[0m\u001b[0;34m\u001b[0m\u001b[0m\n",
      "\u001b[0;31mNameError\u001b[0m: name 'R_' is not defined"
     ]
    }
   ],
   "source": [
    "ax=sns.heatmap(R_)\n",
    "ax.set_xlabel('c-2vall')\n",
    "ax.set_ylabel('c-3vall')\n"
   ]
  },
  {
   "cell_type": "code",
   "execution_count": 35,
   "metadata": {
    "scrolled": true
   },
   "outputs": [
    {
     "ename": "NameError",
     "evalue": "name 'R_' is not defined",
     "output_type": "error",
     "traceback": [
      "\u001b[0;31m---------------------------------------------------------------------------\u001b[0m",
      "\u001b[0;31mNameError\u001b[0m                                 Traceback (most recent call last)",
      "\u001b[0;32m<ipython-input-35-832dbe95c404>\u001b[0m in \u001b[0;36m<module>\u001b[0;34m\u001b[0m\n\u001b[0;32m----> 1\u001b[0;31m \u001b[0mpos\u001b[0m\u001b[0;34m=\u001b[0m\u001b[0mplt\u001b[0m\u001b[0;34m.\u001b[0m\u001b[0mimshow\u001b[0m\u001b[0;34m(\u001b[0m\u001b[0mR_\u001b[0m\u001b[0;34m)\u001b[0m\u001b[0;34m\u001b[0m\u001b[0;34m\u001b[0m\u001b[0m\n\u001b[0m\u001b[1;32m      2\u001b[0m \u001b[0mplt\u001b[0m\u001b[0;34m.\u001b[0m\u001b[0mcolorbar\u001b[0m\u001b[0;34m(\u001b[0m\u001b[0mpos\u001b[0m\u001b[0;34m)\u001b[0m\u001b[0;34m\u001b[0m\u001b[0;34m\u001b[0m\u001b[0m\n",
      "\u001b[0;31mNameError\u001b[0m: name 'R_' is not defined"
     ]
    }
   ],
   "source": [
    "pos=plt.imshow(R_)\n",
    "plt.colorbar(pos)"
   ]
  },
  {
   "cell_type": "code",
   "execution_count": null,
   "metadata": {},
   "outputs": [],
   "source": [
    "R_=R.pivot(index='c1',columns='c2')\n",
    "R_.columns=[str(x[1])[:4] for x in R_.columns]\n",
    "R_.index=[str(x)[:4] for x in R_.columns]"
   ]
  },
  {
   "cell_type": "code",
   "execution_count": null,
   "metadata": {},
   "outputs": [],
   "source": [
    "getacc(.85,.8,p1,p2,p3,f1,f2)"
   ]
  },
  {
   "cell_type": "code",
   "execution_count": null,
   "metadata": {},
   "outputs": [],
   "source": []
  },
  {
   "cell_type": "code",
   "execution_count": null,
   "metadata": {},
   "outputs": [],
   "source": [
    "ACC=[]\n",
    "CLFh={}\n",
    "for run in tqdm(np.arange(500)):\n",
    "    auc,CLFS=getAuc(X,y,test_size=0.2,max_depth=MAX_DEPTH,n_estimators=NUMESTIMATORS,\n",
    "               minsplit=2,VERBOSE=False, USE_ONLY=[2])\n",
    "    ACC=np.append(ACC,auc)\n",
    "    if auc > 0.5:\n",
    "        CLFh[auc]=CLFS\n",
    "CLFstarA=CLFh[np.array([k for k in CLFh.keys()]).max()][0]\n",
    "f1=getFmap(CLFstarA)\n",
    "\n",
    "\n",
    "#df=df0[df0.Biotype.isin([1,5])]\n",
    "df=df0\n",
    "X=df.iloc[:,2:].values\n",
    "y=df.Biotype.values#.astype(str)\n",
    "y=[(int(x)==3)+0 for x in y ]\n",
    "\n",
    "ACC=[]\n",
    "CLFh={}\n",
    "for run in tqdm(np.arange(500)):\n",
    "    auc,CLFS=getAuc(X,y,test_size=0.2,max_depth=MAX_DEPTH,n_estimators=NUMESTIMATORS,\n",
    "               minsplit=2,VERBOSE=False, USE_ONLY=[2])\n",
    "    ACC=np.append(ACC,auc)\n",
    "    if auc > 0.5:\n",
    "        CLFh[auc]=CLFS\n",
    "CLFstarB=CLFh[np.array([k for k in CLFh.keys()]).max()][0]\n",
    "f2=getFmap(CLFstarB)"
   ]
  },
  {
   "cell_type": "code",
   "execution_count": null,
   "metadata": {},
   "outputs": [],
   "source": [
    "f2=getFmap(CLFstarB)"
   ]
  },
  {
   "cell_type": "code",
   "execution_count": null,
   "metadata": {},
   "outputs": [],
   "source": [
    "CLFstarB=CLFh[np.array([k for k in CLFh.keys()]).max()][0]\n",
    "#F=[]\n",
    "#for i in CLFstar.estimators_:\n",
    "#    F=np.append(F,i.tree_.feature)\n",
    "#uF=np.array(list(set(list(F[F>0]))))\n",
    "#len(uF)"
   ]
  },
  {
   "cell_type": "code",
   "execution_count": null,
   "metadata": {},
   "outputs": [],
   "source": [
    "ACC=[]\n",
    "CLFh={}\n",
    "for run in tqdm(np.arange(500)):\n",
    "    auc,CLFS=getAuc(X,y,test_size=0.2,max_depth=MAX_DEPTH,n_estimators=NUMESTIMATORS,\n",
    "               minsplit=2,VERBOSE=False, USE_ONLY=[2])\n",
    "    ACC=np.append(ACC,auc)\n",
    "    if auc > 0.5:\n",
    "        CLFh[auc]=CLFS\n",
    "sns.distplot(ACC)\n",
    "np.median(ACC)"
   ]
  },
  {
   "cell_type": "code",
   "execution_count": null,
   "metadata": {},
   "outputs": [],
   "source": [
    "#df=df0[df0.Biotype.isin([1,5])]\n",
    "df=df0\n",
    "X=df.iloc[:,2:].values\n",
    "y=df.Biotype.values#.astype(str)\n",
    "y=[(int(x)==3)+0 for x in y ]"
   ]
  },
  {
   "cell_type": "code",
   "execution_count": null,
   "metadata": {},
   "outputs": [],
   "source": [
    "f1=getFmap(CLFstarA)"
   ]
  },
  {
   "cell_type": "code",
   "execution_count": null,
   "metadata": {},
   "outputs": [],
   "source": [
    "CLFstarA=CLFh[np.array([k for k in CLFh.keys()]).max()][0]"
   ]
  },
  {
   "cell_type": "code",
   "execution_count": null,
   "metadata": {},
   "outputs": [],
   "source": []
  }
 ],
 "metadata": {
  "kernelspec": {
   "display_name": "Python 3 (ipykernel)",
   "language": "python",
   "name": "python3"
  },
  "language_info": {
   "codemirror_mode": {
    "name": "ipython",
    "version": 3
   },
   "file_extension": ".py",
   "mimetype": "text/x-python",
   "name": "python",
   "nbconvert_exporter": "python",
   "pygments_lexer": "ipython3",
   "version": "3.7.5"
  }
 },
 "nbformat": 4,
 "nbformat_minor": 2
}
