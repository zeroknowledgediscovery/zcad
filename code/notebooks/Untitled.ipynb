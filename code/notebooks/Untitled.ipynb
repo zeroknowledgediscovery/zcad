{
 "cells": [
  {
   "cell_type": "code",
   "execution_count": 11,
   "metadata": {},
   "outputs": [],
   "source": [
    "import pandas as pd\n",
    "\n",
    "import pandas as pd\n",
    "import numpy as np\n",
    "DUMMY=False\n",
    "STRA='L{1in}|L{1.25in}|L{1.25in}|L{1.5in}|L{.3in}|L{.3in}'\n",
    "\n",
    "def texTable(df,tabname='tmp.tex',FORMAT='%1.2f',INDEX=True,DUMMY=DUMMY,USE_l=False):\n",
    "    '''\n",
    "        write latex table\n",
    "    '''\n",
    "    if DUMMY:\n",
    "        return\n",
    "    if INDEX:\n",
    "        df=df.reset_index()\n",
    "    columns=df.columns\n",
    "    df.columns=[x.replace('_','\\\\_') for x in columns]\n",
    "    for col in df.columns:\n",
    "        if df[col].dtype == 'object':\n",
    "            df[col]=df[col].str.replace('_','\\\\_')\n",
    "    \n",
    "    if USE_l:\n",
    "        TABFORMAT='l'*len(df.columns)\n",
    "    else:\n",
    "        TABFORMAT='L{1in}|'*len(df.columns)\n",
    "        TABFORMAT=TABFORMAT[:-1]\n",
    "    STR='\\\\begin{tabular}{'+TABFORMAT+'}\\n'        \n",
    "    with open(tabname,'w') as f:\n",
    "        f.write(STR)\n",
    "    df.to_csv(tabname,float_format=FORMAT,\n",
    "              line_terminator='\\\\\\\\\\\\hline\\n',\n",
    "              sep='&',quotechar=' ',index=None,mode='a')\n",
    "    \n",
    "    with open(tabname,'a') as f:\n",
    "        f.write('\\\\end{tabular}\\n')"
   ]
  },
  {
   "cell_type": "code",
   "execution_count": 12,
   "metadata": {},
   "outputs": [],
   "source": [
    "rf=pd.read_csv('./rescbd.csv',sep=' ')"
   ]
  },
  {
   "cell_type": "code",
   "execution_count": 13,
   "metadata": {},
   "outputs": [
    {
     "data": {
      "text/html": [
       "<div>\n",
       "<style scoped>\n",
       "    .dataframe tbody tr th:only-of-type {\n",
       "        vertical-align: middle;\n",
       "    }\n",
       "\n",
       "    .dataframe tbody tr th {\n",
       "        vertical-align: top;\n",
       "    }\n",
       "\n",
       "    .dataframe thead th {\n",
       "        text-align: right;\n",
       "    }\n",
       "</style>\n",
       "<table border=\"1\" class=\"dataframe\">\n",
       "  <thead>\n",
       "    <tr style=\"text-align: right;\">\n",
       "      <th></th>\n",
       "      <th>Problem</th>\n",
       "      <th>Confidence</th>\n",
       "      <th>Lower</th>\n",
       "      <th>Upper</th>\n",
       "      <th>Mean</th>\n",
       "    </tr>\n",
       "  </thead>\n",
       "  <tbody>\n",
       "    <tr>\n",
       "      <th>0</th>\n",
       "      <td>SCZvsSAFF</td>\n",
       "      <td>0.99</td>\n",
       "      <td>0.831309</td>\n",
       "      <td>0.878339</td>\n",
       "      <td>0.854824</td>\n",
       "    </tr>\n",
       "    <tr>\n",
       "      <th>1</th>\n",
       "      <td>SCZvsREST</td>\n",
       "      <td>0.99</td>\n",
       "      <td>0.844912</td>\n",
       "      <td>0.868956</td>\n",
       "      <td>0.856934</td>\n",
       "    </tr>\n",
       "    <tr>\n",
       "      <th>2</th>\n",
       "      <td>SCZ+SAFFvsREST</td>\n",
       "      <td>0.99</td>\n",
       "      <td>0.922253</td>\n",
       "      <td>0.937797</td>\n",
       "      <td>0.930025</td>\n",
       "    </tr>\n",
       "  </tbody>\n",
       "</table>\n",
       "</div>"
      ],
      "text/plain": [
       "          Problem  Confidence     Lower     Upper      Mean\n",
       "0       SCZvsSAFF        0.99  0.831309  0.878339  0.854824\n",
       "1       SCZvsREST        0.99  0.844912  0.868956  0.856934\n",
       "2  SCZ+SAFFvsREST        0.99  0.922253  0.937797  0.930025"
      ]
     },
     "execution_count": 13,
     "metadata": {},
     "output_type": "execute_result"
    }
   ],
   "source": [
    "rf"
   ]
  },
  {
   "cell_type": "code",
   "execution_count": 14,
   "metadata": {},
   "outputs": [],
   "source": [
    "texTable(rf,INDEX=False)"
   ]
  },
  {
   "cell_type": "code",
   "execution_count": 15,
   "metadata": {},
   "outputs": [
    {
     "name": "stdout",
     "output_type": "stream",
     "text": [
      "\\begin{tabular}{L{1in}|L{1in}|L{1in}|L{1in}|L{1in}}\r\n",
      " Problem & Confidence & Lower & Upper & Mean \\\\\\hline\r\n",
      "SCZvsSAFF&0.99&0.83&0.88&0.85\\\\\\hline\r\n",
      "SCZvsREST&0.99&0.84&0.87&0.86\\\\\\hline\r\n",
      "SCZ+SAFFvsREST&0.99&0.92&0.94&0.93\\\\\\hline\r\n",
      "\\end{tabular}\r\n"
     ]
    }
   ],
   "source": [
    "! cat tmp.tex"
   ]
  },
  {
   "cell_type": "code",
   "execution_count": null,
   "metadata": {},
   "outputs": [],
   "source": []
  }
 ],
 "metadata": {
  "kernelspec": {
   "display_name": "Python 3 (ipykernel)",
   "language": "python",
   "name": "python3"
  },
  "language_info": {
   "codemirror_mode": {
    "name": "ipython",
    "version": 3
   },
   "file_extension": ".py",
   "mimetype": "text/x-python",
   "name": "python",
   "nbconvert_exporter": "python",
   "pygments_lexer": "ipython3",
   "version": "3.10.8"
  }
 },
 "nbformat": 4,
 "nbformat_minor": 2
}
